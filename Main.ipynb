{
 "cells": [
  {
   "attachments": {},
   "cell_type": "markdown",
   "metadata": {},
   "source": [
    "Import Required Packages"
   ]
  },
  {
   "cell_type": "code",
   "execution_count": 1,
   "metadata": {},
   "outputs": [],
   "source": [
    "#|export\n",
    "from selenium import webdriver\n",
    "from selenium.webdriver.chrome.options import Options\n",
    "from selenium.common.exceptions import NoSuchElementException\n",
    "import psutil\n",
    "from selenium.webdriver.common.by import By\n",
    "from selenium.webdriver.support.ui import WebDriverWait\n",
    "from selenium.webdriver.support import expected_conditions as EC\n",
    "import time\n",
    "import pandas as pd\n",
    "from selenium.webdriver.common.keys import Keys\n",
    "from selenium.webdriver.common.action_chains import ActionChains\n",
    "import wd_classes\n",
    "from wd_classes import FormEntry\n",
    "import importlib\n",
    "importlib.reload(wd_classes)\n",
    "from wd_classes import FormEntry\n",
    "from openpyxl import load_workbook"
   ]
  },
  {
   "attachments": {},
   "cell_type": "markdown",
   "metadata": {},
   "source": [
    "Get current open chrome browser"
   ]
  },
  {
   "cell_type": "code",
   "execution_count": 192,
   "metadata": {},
   "outputs": [
    {
     "name": "stderr",
     "output_type": "stream",
     "text": [
      "C:\\Users\\JoshG\\AppData\\Local\\Temp\\ipykernel_15612\\2291859458.py:10: DeprecationWarning: use options instead of chrome_options\n",
      "  driver = webdriver.Chrome(chrome_driver, chrome_options=chrome_options)\n"
     ]
    }
   ],
   "source": [
    "#|export\n",
    "chrome_options = Options()\n",
    "chrome_options.add_experimental_option(\"debuggerAddress\", \"127.0.0.1:9222\")\n",
    "\n",
    "#Before doing this launch chrome using cmd prompt command: \n",
    "#chrome.exe --remote-debugging-port=9222 --user-data-dir=\"C:\\Users\\JoshG\\Documents\\Machine Learning\\JobApp_Automation\\ChromeProfile\"\n",
    "\n",
    "chrome_driver = \"C:/Users/JoshG/AppData/Local/Microsoft/WindowsApps/chromedriver.exe\"\n",
    "\n",
    "driver = webdriver.Chrome(chrome_driver, chrome_options=chrome_options)"
   ]
  },
  {
   "attachments": {},
   "cell_type": "markdown",
   "metadata": {},
   "source": [
    "Error Handling"
   ]
  },
  {
   "cell_type": "code",
   "execution_count": 24,
   "metadata": {},
   "outputs": [
    {
     "name": "stdout",
     "output_type": "stream",
     "text": [
      "page did not move past login page\n",
      "Account not created\n",
      "answer type is not valid\n"
     ]
    }
   ],
   "source": [
    "class stuck_on_login_page(Exception):\n",
    "    print(f'page did not move past login page')\n",
    "    pass\n",
    "\n",
    "class stuck_on_create_account(Exception):\n",
    "    print(f'Account not created')\n",
    "    pass\n",
    "\n",
    "class invalid_form_entry_type(Exception):\n",
    "    print(f'answer type is not valid')"
   ]
  },
  {
   "attachments": {},
   "cell_type": "markdown",
   "metadata": {},
   "source": [
    "Functions"
   ]
  },
  {
   "cell_type": "code",
   "execution_count": 4,
   "metadata": {},
   "outputs": [],
   "source": [
    "#|export\n",
    "#get login info saved in csv database\n",
    "def wd_get_login_info(company_name,database=\"login_info.csv\"):\n",
    "    #open csv database\n",
    "    df = pd.read_csv(database,dtype={'Password': str})\n",
    "    \n",
    "    #get email and password\n",
    "    email = df.loc[df[\"Company\"] == company_name, 'Email']\n",
    "    email = email.values[0]\n",
    "    password = df.loc[df[\"Company\"] == company_name, 'Password']\n",
    "    password = password.values[0]\n",
    "\n",
    "    return email, password"
   ]
  },
  {
   "cell_type": "code",
   "execution_count": 5,
   "metadata": {},
   "outputs": [],
   "source": [
    "#|export\n",
    "#get login info saved in csv database\n",
    "def write_login_info(company_name,email,password,database=\"login_info.csv\"):\n",
    "    #open csv database\n",
    "    df = pd.read_csv(database)\n",
    "\n",
    "    # add a new row to the DataFrame with the new person's name and company name\n",
    "    new_row = pd.DataFrame({'Company': [f'{company_name}'], 'Email': [f'{email}'], 'Password': [f'{password}']})\n",
    "\n",
    "    # concatenate the new DataFrame with the existing DataFrame\n",
    "    df = pd.concat([df, new_row], ignore_index=False)\n",
    "\n",
    "    # write the updated DataFrame to the existing CSV file\n",
    "    df.to_csv('login_info.csv', index=False)"
   ]
  },
  {
   "cell_type": "code",
   "execution_count": 6,
   "metadata": {},
   "outputs": [],
   "source": [
    "#|export\n",
    "#check if this url has a workday account in database\n",
    "def wd_check_account_exists(company_name, login_info=\"login_info.csv\"):\n",
    "    df = pd.read_csv(login_info,dtype={'Password': str})\n",
    "    if company_name in df[\"Company\"].values:\n",
    "        return True\n",
    "    else:\n",
    "        return False"
   ]
  },
  {
   "cell_type": "code",
   "execution_count": 7,
   "metadata": {},
   "outputs": [],
   "source": [
    "#|export\n",
    "def check_page_type(page_type):\n",
    "    #check to see if on page = \"page_type\"\n",
    "    try:\n",
    "        page_title_obj = driver.find_element_by_xpath(f'//h2[text()=\"{page_type}\"]')\n",
    "    except:\n",
    "        return False\n",
    "    #page_title_obj = driver.find_element_by_id(\"authViewTitle\")\n",
    "    page_title = page_title_obj.text\n",
    "    print(page_title)\n",
    "    if page_title == page_type:\n",
    "        return True\n",
    "    else:\n",
    "        return False"
   ]
  },
  {
   "cell_type": "code",
   "execution_count": 8,
   "metadata": {},
   "outputs": [],
   "source": [
    "#|export\n",
    "#create new wd account\n",
    "def wd_create_account(company_name, username, password):\n",
    "    #get form items\n",
    "    email_text_box = driver.find_element(By.XPATH, \"//*[contains(text(), 'Email Address')]/following::input[@type='text'][1]\")\n",
    "    password_text_box = driver.find_element_by_css_selector(\"input[data-automation-id='password']\")\n",
    "    verify_password_text_box = driver.find_element_by_css_selector(\"input[data-automation-id='verifyPassword']\")\n",
    "    terms_checkbox = driver.find_element_by_css_selector(\"input[data-automation-id='createAccountCheckbox']\")\n",
    "\n",
    "    #fill in form\n",
    "    email_text_box.clear()\n",
    "    email_text_box.send_keys(email)\n",
    "\n",
    "    #for some reason clear doesn't work with this field, so alternative is highlighting the text to clear\n",
    "    password_text_box.send_keys(Keys.CONTROL,\"a\", Keys.DELETE)\n",
    "    password_text_box.send_keys(password)\n",
    "    password_text_box.send_keys(Keys.TAB)\n",
    "\n",
    "    #See if password was accepted\n",
    "    try:\n",
    "        driver.find_element_by_css_selector(\"p[data-automation-id='inputError']\")\n",
    "        error_msg = driver.find_element_by_css_selector(\"p[data-automation-id='inputError']\")\n",
    "        if error_msg.is_displayed():\n",
    "            print(\"Passsword has error\")\n",
    "        else:\n",
    "            print(\"password valid, but inputerror label exists\")\n",
    "\n",
    "    except NoSuchElementException:\n",
    "        print(\"Password is valid\")\n",
    "\n",
    "    verify_password_text_box.clear()\n",
    "    verify_password_text_box.send_keys(password)\n",
    "\n",
    "    #check terms and conditions checkbox\n",
    "    if terms_checkbox.get_attribute(\"checked\") == \"true\":\n",
    "        print('was already checked')\n",
    "    else:\n",
    "        terms_checkbox.click()\n",
    "\n",
    "    #Get create account button\n",
    "    create_account_button = driver.find_element_by_xpath(\"//div[@aria-label='Create Account']\")\n",
    "    driver.implicitly_wait(1)\n",
    "    driver.execute_script(\"arguments[0].click();\", create_account_button)\n",
    "\n",
    "    #Add to database if account created successfully\n",
    "    if check_page_type('Create Account'):\n",
    "        raise stuck_on_create_account(\"Did not move on to next page from create account\")\n",
    "    else:\n",
    "        write_login_info(company_name, username, password)"
   ]
  },
  {
   "cell_type": "code",
   "execution_count": 9,
   "metadata": {},
   "outputs": [],
   "source": [
    "#|export\n",
    "def wd_sign_in(email, password):\n",
    "    # Get email and password elements\n",
    "    email_text_box = driver.find_element(By.XPATH, \"//*[contains(text(), 'Email Address')]/following::input[@type='text'][1]\")\n",
    "    password_text_box = driver.find_element(By.XPATH, \"//*[contains(text(), 'password')]/following::input[@type='password'][1]\")\n",
    "    \n",
    "    \n",
    "    #Fill in email and password\n",
    "    email_text_box.send_keys(email)\n",
    "    password_text_box.send_keys(password)\n",
    "\n",
    "    #wait for a moment\n",
    "    driver.implicitly_wait(2)\n",
    "    \n",
    "    #Get sign in button and click\n",
    "    sign_in_button = driver.find_element_by_xpath(\"//div[@aria-label='Sign In']\")\n",
    "    driver.implicitly_wait(1)\n",
    "    driver.execute_script(\"arguments[0].click();\", sign_in_button)\n",
    "\n",
    "    driver.implicitly_wait(1)\n",
    "\n",
    "    \n",
    "    #check to see if still on same page\n",
    "    if check_page_type('login'):\n",
    "        raise stuck_on_login_page(\"Login Info Didn't Work\")\n",
    "    else:\n",
    "        print(\"no errors found on login page\")"
   ]
  },
  {
   "cell_type": "code",
   "execution_count": 10,
   "metadata": {},
   "outputs": [],
   "source": [
    "#|export\n",
    "def get_current_company():\n",
    "    #get url and pull the text after the first / after myworkdayjobs.com\n",
    "    current_url = driver.current_url\n",
    "\n",
    "    # Split the URL by \"/\"\n",
    "    parts = current_url.split(\"/\")\n",
    "\n",
    "    # Get the text following \".com/\" and before the next slash\n",
    "    company_name = parts[3]\n",
    "\n",
    "    return company_name"
   ]
  },
  {
   "cell_type": "code",
   "execution_count": 11,
   "metadata": {},
   "outputs": [],
   "source": [
    "#|export\n",
    "def wd_login_page(new_email,new_password):\n",
    "    \n",
    "    wait = WebDriverWait(driver, 20)\n",
    "    wait.until(EC.presence_of_element_located((By.ID, \"input-4\")))\n",
    "    \n",
    "    current_company = get_current_company()\n",
    "\n",
    "    #check if account exists for this site and login if has account or create account and then login\n",
    "    if wd_check_account_exists(current_company) is True:\n",
    "        email, password = wd_get_login_info(current_company)\n",
    "        wd_sign_in(email, password)\n",
    "    else:\n",
    "        create_account_button = driver.find_element_by_xpath(\"//button[contains(text(), 'Create Account')]\")\n",
    "        create_account_button.click()\n",
    "        \n",
    "        wd_create_account(current_company, new_email, new_password)"
   ]
  },
  {
   "cell_type": "code",
   "execution_count": 12,
   "metadata": {},
   "outputs": [],
   "source": [
    "#|export\n",
    "def wd_startYourApplication_page():\n",
    "    \n",
    "    wait = WebDriverWait(driver, 20)\n",
    "    wait.until(EC.presence_of_element_located((By.CSS_SELECTOR, \"[data-automation-id='applyManually']\")))\n",
    "\n",
    "    manual_apply_btn = driver.find_element_by_css_selector(\"a[data-automation-id='applyManually']\")\n",
    "    manual_apply_btn.click()"
   ]
  },
  {
   "cell_type": "code",
   "execution_count": 28,
   "metadata": {},
   "outputs": [],
   "source": [
    "#|export\n",
    "def get_answer(df,question):\n",
    "    #pull answer from form\n",
    "    try:\n",
    "        index = df.index[df['Questions'] == question].tolist()[0]\n",
    "        answer = df.at[index, 'Answers']\n",
    "    except:\n",
    "        answer = \"\"\n",
    "        print(f\"failed to get answer for: {question}\")\n",
    "\n",
    "    if pd.isna(answer):\n",
    "        answer = \"\"\n",
    "\n",
    "    return answer"
   ]
  },
  {
   "cell_type": "code",
   "execution_count": 185,
   "metadata": {},
   "outputs": [],
   "source": [
    "#|export\n",
    "def wait_data_automation_id_loaded(dataautomationid,t=10):\n",
    "    wait = WebDriverWait(driver, t)\n",
    "    wait.until(EC.presence_of_element_located((By.CSS_SELECTOR, f\"[data-automation-id='{dataautomationid}']\")))\n",
    "    time.sleep(1)"
   ]
  },
  {
   "cell_type": "code",
   "execution_count": 166,
   "metadata": {},
   "outputs": [],
   "source": [
    "def fill_sub_section(driver, df, exp_container):\n",
    "    # locate all input elements in work experience 1\n",
    "    inputs_list = exp_container.find_elements_by_css_selector(\"[id^='input-']\")\n",
    "\n",
    "    #remove any elements that don't have their id ending in a number\n",
    "    new_inputs_list = []\n",
    "    for i in range(len(inputs_list)):\n",
    "        current_id = inputs_list[i].get_attribute('ID')\n",
    "        if current_id[-1].isdigit() != False:\n",
    "            new_inputs_list.append(inputs_list[i])\n",
    "    inputs_list = new_inputs_list\n",
    "\n",
    "    #move through each form entry and fill in\n",
    "    entries = []\n",
    "    for element in inputs_list:\n",
    "        #make sure element still exists\n",
    "        try:\n",
    "            if len(driver.find_elements_by_xpath(f\"//*[@id='{element.get_attribute('ID')}']\")) > 0:\n",
    "                pass\n",
    "        except:\n",
    "            continue\n",
    "        \n",
    "        #create element object\n",
    "        entry = FormEntry(element)\n",
    "        \n",
    "        #get the type of answer form it is\n",
    "        entry.get_id()\n",
    "        entry.get_tag()\n",
    "        entry.get_answer_type()\n",
    "        entry.get_label()\n",
    "\n",
    "        #skip if a span element\n",
    "        if entry.tag == 'span':\n",
    "            continue\n",
    "\n",
    "        #pull answer from form\n",
    "        answer = get_answer(df,entry.label)\n",
    "        entry.add_answer(answer)\n",
    "\n",
    "        #fill in answer\n",
    "        entry.update_element(driver)\n",
    "        entry.write_answer(driver)\n",
    "            \n",
    "        #append entry to entries list\n",
    "        entries.append(entry)"
   ]
  },
  {
   "cell_type": "code",
   "execution_count": 124,
   "metadata": {},
   "outputs": [],
   "source": [
    "#|export\n",
    "def delete_sub_section(aria_label):\n",
    "    delete_btn = driver.find_elements_by_xpath(f\"//button[starts-with(@aria-label,{aria_label})]\")\n",
    "    if len(delete_btn) > 0:\n",
    "        for i in range(len(delete_btn)):\n",
    "            delete_btn[i].click()\n",
    "\n",
    "def add_sub_section(form_container_id,positioning='following-sibling'):\n",
    "    add_btn = driver.find_elements_by_xpath(f\"//*[@data-automation-id='{form_container_id}']/{positioning}::div//button[starts-with(@aria-label,'Add')]\")\n",
    "    add_btn[0].click()"
   ]
  },
  {
   "cell_type": "code",
   "execution_count": 120,
   "metadata": {},
   "outputs": [],
   "source": [
    "#|export\n",
    "def fill_section(browser_driver, container_auto_id, start_of_sheets_name, numb_sheets=1, qa_database=\"Answers.xlsx\", implicit_wait_time=0.2):\n",
    "\n",
    "    #wait until page has loaded form\n",
    "    if numb_sheets == 1:\n",
    "        wait_data_automation_id_loaded(container_auto_id)\n",
    "    else:\n",
    "        wait_data_automation_id_loaded(f\"{container_auto_id}{1}\")\n",
    "\n",
    "    #get question/answer database and sheets\n",
    "    sheet_names = pd.ExcelFile(qa_database).sheet_names\n",
    "    sheets = [name for name in sheet_names if name.startswith(start_of_sheets_name)]\n",
    "    required_sheets = list(sheets)\n",
    "\n",
    "    #fill in each form for each job\n",
    "    for i in range(numb_sheets):\n",
    "\n",
    "        #put sheet required to fill in form as the active dataframe\n",
    "        df = pd.read_excel(qa_database,required_sheets[i],dtype=str)\n",
    "\n",
    "        #get the container element\n",
    "        if numb_sheets == 1:\n",
    "            form_container = driver.find_element_by_xpath(f\"//div[@data-automation-id='{container_auto_id}']\")\n",
    "        else:\n",
    "            form_container = driver.find_element_by_xpath(f\"//div[@data-automation-id='{container_auto_id}{(i+1)}']\")\n",
    "        \n",
    "        #fill in work experience section\n",
    "        fill_sub_section(driver,df,form_container)\n",
    "\n",
    "        #click on add another so long as not last work experience to add\n",
    "        if i+1 != numb_sheets and numb_sheets > 1:  \n",
    "            #click work experience button\n",
    "            form_container_id = form_container.get_attribute('data-automation-id')\n",
    "            add_sub_section(form_container_id)"
   ]
  },
  {
   "cell_type": "code",
   "execution_count": 127,
   "metadata": {},
   "outputs": [],
   "source": [
    "#|export\n",
    "def upload_file(file_path):\n",
    "    # Locate the upload button using its ID or CSS selector\n",
    "    upload_button = driver.find_element_by_xpath(f\"//input[@data-automation-id='file-upload-input-ref']\")\n",
    "    upload_button.send_keys(file_path)\n"
   ]
  },
  {
   "cell_type": "code",
   "execution_count": 74,
   "metadata": {},
   "outputs": [],
   "source": [
    "#|export\n",
    "#\n",
    "#click the save and continue button\n",
    "def go_to_next():\n",
    "    continue_btn = driver.find_element_by_xpath(\"//button[@data-automation-id='bottom-navigation-next-button']\")\n",
    "    continue_btn.click()\n"
   ]
  },
  {
   "cell_type": "code",
   "execution_count": 159,
   "metadata": {},
   "outputs": [],
   "source": [
    "import wd_classes\n",
    "from wd_classes import FormEntry\n",
    "import importlib\n",
    "importlib.reload(wd_classes)\n",
    "from wd_classes import FormEntry"
   ]
  },
  {
   "cell_type": "code",
   "execution_count": 14,
   "metadata": {},
   "outputs": [
    {
     "name": "stdout",
     "output_type": "stream",
     "text": [
      "no errors found on login page\n"
     ]
    }
   ],
   "source": [
    "#Example job url\n",
    "url = 'https://jci.wd5.myworkdayjobs.com/JCI/login?redirect=%2FJCI%2Fjob%2FMissoula-Montana-United-States-of-America%2FHVAC-Truck-Base-Mechanic--Union-_WD30167702%2Fapply%3Fsource%3DCareers_Section'\n",
    "\n",
    "#login info\n",
    "email = \"pyEngineer69@outlook.com\"\n",
    "password = \"aTestPass@1234\"\n",
    "\n",
    "#Open job link, sign in, and start manual application\n",
    "def start_job_app(url, email, password):\n",
    "    #get job posting url\n",
    "    driver.get(url)\n",
    "\n",
    "    #login or create account and log in\n",
    "    wd_login_page(email, password)\n",
    "\n",
    "    #Click on start manual application\n",
    "    try:\n",
    "        wd_startYourApplication_page()\n",
    "    except:\n",
    "        print(\"Apply manually button was not pressed. This could be because the job app had already been started or an error\")\n",
    "\n",
    "start_job_app(url,email,password)"
   ]
  },
  {
   "cell_type": "code",
   "execution_count": 77,
   "metadata": {},
   "outputs": [
    {
     "name": "stdout",
     "output_type": "stream",
     "text": [
      "Have you ever worked for JCI or one of its affiliates?\n",
      "failed to get answer for: \n",
      "Failed to get a label, ID: input-631\n"
     ]
    }
   ],
   "source": [
    "page_auto_id = 'contactInformationPage'\n",
    "answers_database = 'Answers.xlsx'\n",
    "answer_sheet_name = 'Answers'\n",
    "\n",
    "fill_section(driver, page_auto_id,start_of_sheets_name=answer_sheet_name,qa_database=answers_database)\n",
    "\n",
    "go_to_next()"
   ]
  },
  {
   "cell_type": "code",
   "execution_count": 125,
   "metadata": {},
   "outputs": [
    {
     "name": "stdout",
     "output_type": "stream",
     "text": [
      "date to input: 1/3/2023, ID: input-1325\n",
      "12023\n",
      "date to input: 02/18/2021, ID: input-1468\n",
      "022021\n",
      "date to input: 06/28/2022, ID: input-1471\n",
      "062022\n"
     ]
    }
   ],
   "source": [
    "add_sub_section('workExperienceSection',positioning='descendant')\n",
    "\n",
    "fill_section(driver,'workExperience-',start_of_sheets_name='WorkExp',qa_database=answers_database,numb_sheets=2)"
   ]
  },
  {
   "cell_type": "code",
   "execution_count": 126,
   "metadata": {},
   "outputs": [
    {
     "name": "stdout",
     "output_type": "stream",
     "text": [
      "2019\n",
      "2022\n",
      "2016\n",
      "2021\n"
     ]
    }
   ],
   "source": [
    "add_sub_section(\"educationSection\",positioning=\"descendant\")\n",
    "\n",
    "fill_section(driver,'education-',start_of_sheets_name='Education',qa_database=answers_database,numb_sheets=2)"
   ]
  },
  {
   "cell_type": "code",
   "execution_count": 129,
   "metadata": {},
   "outputs": [],
   "source": [
    "file_path = \"C:\\\\Users\\\\JoshG\\\\Documents\\\\Machine Learning\\\\JobApp_Automation\\\\Sample Resume.docx\"\n",
    "upload_file(file_path)"
   ]
  },
  {
   "cell_type": "code",
   "execution_count": 130,
   "metadata": {},
   "outputs": [],
   "source": [
    "go_to_next()"
   ]
  },
  {
   "cell_type": "code",
   "execution_count": 133,
   "metadata": {},
   "outputs": [],
   "source": [
    "fill_section(driver,'primaryQuestionnairePage',start_of_sheets_name='Answers',qa_database=answers_database,numb_sheets=1)\n",
    "\n",
    "go_to_next()"
   ]
  },
  {
   "cell_type": "code",
   "execution_count": 151,
   "metadata": {},
   "outputs": [],
   "source": [
    "df = pd.read_excel('Answers.xlsx',sheet_name=\"RacistQuestions\", dtype=str)\n",
    "\n",
    "section = driver.find_element_by_xpath(\"//div[@data-automation-id='voluntaryDisclosuresPage']\")\n",
    "fill_sub_section(driver,df,section)"
   ]
  },
  {
   "cell_type": "code",
   "execution_count": 149,
   "metadata": {},
   "outputs": [],
   "source": [
    "go_to_next()"
   ]
  },
  {
   "cell_type": "code",
   "execution_count": 183,
   "metadata": {},
   "outputs": [
    {
     "name": "stdout",
     "output_type": "stream",
     "text": [
      "ID: input-2152, tag: button, entry label: Language, answer: English, answer type: LISTBOX\n",
      "Failed to get a label, ID: input-2153\n",
      "Failed to get a label, ID: input-2154\n",
      "Failed to get a label, ID: input-2155\n",
      "ID: input-2156, tag: input, entry label: Name, answer: John Smith, answer type: TEXTINPUT\n",
      "ID: input-2157, tag: input, entry label: Employee ID (if applicable), answer: , answer type: TEXTINPUT\n",
      "ID: input-2160, tag: div, entry label: Date, answer: 02/01/2023, answer type: DATE_MONTH_DAY_YEAR\n",
      "ID: input-2161, tag: div, entry label: Please check one of the boxes below:, answer: No, I Don't Have A Disability, Or A History/Record Of Having A Disability, answer type: DISABILITY\n"
     ]
    }
   ],
   "source": [
    "fill_section(driver,'selfIdentificationPage',start_of_sheets_name='Disabilities',qa_database=answers_database,numb_sheets=1)\n"
   ]
  },
  {
   "cell_type": "code",
   "execution_count": 193,
   "metadata": {},
   "outputs": [
    {
     "name": "stdout",
     "output_type": "stream",
     "text": [
      "Password is valid\n",
      "Create Account\n"
     ]
    },
    {
     "ename": "stuck_on_create_account",
     "evalue": "Did not move on to next page from create account",
     "output_type": "error",
     "traceback": [
      "\u001b[1;31m---------------------------------------------------------------------------\u001b[0m",
      "\u001b[1;31mstuck_on_create_account\u001b[0m                   Traceback (most recent call last)",
      "Cell \u001b[1;32mIn [193], line 22\u001b[0m\n\u001b[0;32m     19\u001b[0m     \u001b[39mexcept\u001b[39;00m:\n\u001b[0;32m     20\u001b[0m         \u001b[39mprint\u001b[39m(\u001b[39m\"\u001b[39m\u001b[39mApply manually button was not pressed. This could be because the job app had already been started or an error\u001b[39m\u001b[39m\"\u001b[39m)\n\u001b[1;32m---> 22\u001b[0m start_job_app(url,email,password)\n",
      "Cell \u001b[1;32mIn [193], line 14\u001b[0m, in \u001b[0;36mstart_job_app\u001b[1;34m(url, email, password)\u001b[0m\n\u001b[0;32m     11\u001b[0m driver\u001b[39m.\u001b[39mget(url)\n\u001b[0;32m     13\u001b[0m \u001b[39m#login or create account and log in\u001b[39;00m\n\u001b[1;32m---> 14\u001b[0m wd_login_page(email, password)\n\u001b[0;32m     16\u001b[0m \u001b[39m#Click on start manual application\u001b[39;00m\n\u001b[0;32m     17\u001b[0m \u001b[39mtry\u001b[39;00m:\n",
      "Cell \u001b[1;32mIn [11], line 16\u001b[0m, in \u001b[0;36mwd_login_page\u001b[1;34m(new_email, new_password)\u001b[0m\n\u001b[0;32m     13\u001b[0m create_account_button \u001b[39m=\u001b[39m driver\u001b[39m.\u001b[39mfind_element_by_xpath(\u001b[39m\"\u001b[39m\u001b[39m//button[contains(text(), \u001b[39m\u001b[39m'\u001b[39m\u001b[39mCreate Account\u001b[39m\u001b[39m'\u001b[39m\u001b[39m)]\u001b[39m\u001b[39m\"\u001b[39m)\n\u001b[0;32m     14\u001b[0m create_account_button\u001b[39m.\u001b[39mclick()\n\u001b[1;32m---> 16\u001b[0m wd_create_account(current_company, new_email, new_password)\n",
      "Cell \u001b[1;32mIn [8], line 46\u001b[0m, in \u001b[0;36mwd_create_account\u001b[1;34m(company_name, username, password)\u001b[0m\n\u001b[0;32m     44\u001b[0m \u001b[39m#Add to database if account created successfully\u001b[39;00m\n\u001b[0;32m     45\u001b[0m \u001b[39mif\u001b[39;00m check_page_type(\u001b[39m'\u001b[39m\u001b[39mCreate Account\u001b[39m\u001b[39m'\u001b[39m):\n\u001b[1;32m---> 46\u001b[0m     \u001b[39mraise\u001b[39;00m stuck_on_create_account(\u001b[39m\"\u001b[39m\u001b[39mDid not move on to next page from create account\u001b[39m\u001b[39m\"\u001b[39m)\n\u001b[0;32m     47\u001b[0m \u001b[39melse\u001b[39;00m:\n\u001b[0;32m     48\u001b[0m     write_login_info(company_name, username, password)\n",
      "\u001b[1;31mstuck_on_create_account\u001b[0m: Did not move on to next page from create account"
     ]
    }
   ],
   "source": [
    "#Example job url\n",
    "url = \"https://cardinalhealth.wd1.myworkdayjobs.com/EXT/login?redirect=%2FEXT%2Fjob%2FUS-Nationwide-FIELD%2FPrincipal-Design-Quality-Engineer_20116986%2Fapply%3Fpk_vid%3Da04039fd660829c016753066470bea81\"\n",
    "\n",
    "#login info\n",
    "email = \"pyEngineer69@outlook.com\"\n",
    "password = \"aTestPass@1234\"\n",
    "\n",
    "#Open job link, sign in, and start manual application\n",
    "def start_job_app(url, email, password):\n",
    "    #get job posting url\n",
    "    driver.get(url)\n",
    "\n",
    "    #login or create account and log in\n",
    "    wd_login_page(email, password)\n",
    "\n",
    "    #Click on start manual application\n",
    "    try:\n",
    "        wd_startYourApplication_page()\n",
    "    except:\n",
    "        print(\"Apply manually button was not pressed. This could be because the job app had already been started or an error\")\n",
    "\n",
    "start_job_app(url,email,password)\n",
    "\n"
   ]
  },
  {
   "cell_type": "code",
   "execution_count": 194,
   "metadata": {},
   "outputs": [
    {
     "name": "stdout",
     "output_type": "stream",
     "text": [
      "ID: input-1, tag: button, entry label: How Did You Hear About Us?, answer: LinkedIn, Other, OTR, answer type: LISTBOX\n",
      "Have you previously worked for Cardinal Health? If Yes, please answer the questions below. If No, please continue to the next page\n",
      "failed to get answer for: Have you previously worked for Cardinal Health? If Yes, please answer the questions below. If No, please continue to the next page\n",
      "ID: input-2, tag: div, entry label: Have you previously worked for Cardinal Health? If Yes, please answer the questions below. If No, please continue to the next page, answer: , answer type: None\n",
      "failed to get answer for: Country\n",
      "ID: input-3, tag: button, entry label: Country, answer: , answer type: LISTBOX\n"
     ]
    },
    {
     "ename": "ElementNotInteractableException",
     "evalue": "Message: element not interactable\n  (Session info: chrome=109.0.5414.120)\n",
     "output_type": "error",
     "traceback": [
      "\u001b[1;31m---------------------------------------------------------------------------\u001b[0m",
      "\u001b[1;31mElementNotInteractableException\u001b[0m           Traceback (most recent call last)",
      "Cell \u001b[1;32mIn [194], line 5\u001b[0m\n\u001b[0;32m      2\u001b[0m answers_database \u001b[39m=\u001b[39m \u001b[39m'\u001b[39m\u001b[39mAnswers.xlsx\u001b[39m\u001b[39m'\u001b[39m\n\u001b[0;32m      3\u001b[0m answer_sheet_name \u001b[39m=\u001b[39m \u001b[39m'\u001b[39m\u001b[39mAnswers\u001b[39m\u001b[39m'\u001b[39m\n\u001b[1;32m----> 5\u001b[0m fill_section(driver, page_auto_id,start_of_sheets_name\u001b[39m=\u001b[39;49manswer_sheet_name,qa_database\u001b[39m=\u001b[39;49manswers_database)\n\u001b[0;32m      7\u001b[0m go_to_next()\n\u001b[0;32m      9\u001b[0m wait_data_automation_id_loaded(\u001b[39m'\u001b[39m\u001b[39mworkExperienceSection\u001b[39m\u001b[39m'\u001b[39m)\n",
      "Cell \u001b[1;32mIn [120], line 28\u001b[0m, in \u001b[0;36mfill_section\u001b[1;34m(browser_driver, container_auto_id, start_of_sheets_name, numb_sheets, qa_database, implicit_wait_time)\u001b[0m\n\u001b[0;32m     25\u001b[0m     form_container \u001b[39m=\u001b[39m driver\u001b[39m.\u001b[39mfind_element_by_xpath(\u001b[39mf\u001b[39m\u001b[39m\"\u001b[39m\u001b[39m//div[@data-automation-id=\u001b[39m\u001b[39m'\u001b[39m\u001b[39m{\u001b[39;00mcontainer_auto_id\u001b[39m}\u001b[39;00m\u001b[39m{\u001b[39;00m(i\u001b[39m+\u001b[39m\u001b[39m1\u001b[39m)\u001b[39m}\u001b[39;00m\u001b[39m'\u001b[39m\u001b[39m]\u001b[39m\u001b[39m\"\u001b[39m)\n\u001b[0;32m     27\u001b[0m \u001b[39m#fill in work experience section\u001b[39;00m\n\u001b[1;32m---> 28\u001b[0m fill_sub_section(driver,df,form_container)\n\u001b[0;32m     30\u001b[0m \u001b[39m#click on add another so long as not last work experience to add\u001b[39;00m\n\u001b[0;32m     31\u001b[0m \u001b[39mif\u001b[39;00m i\u001b[39m+\u001b[39m\u001b[39m1\u001b[39m \u001b[39m!=\u001b[39m numb_sheets \u001b[39mand\u001b[39;00m numb_sheets \u001b[39m>\u001b[39m \u001b[39m1\u001b[39m:  \n\u001b[0;32m     32\u001b[0m     \u001b[39m#click work experience button\u001b[39;00m\n",
      "Cell \u001b[1;32mIn [166], line 43\u001b[0m, in \u001b[0;36mfill_sub_section\u001b[1;34m(driver, df, exp_container)\u001b[0m\n\u001b[0;32m     41\u001b[0m entry\u001b[39m.\u001b[39mupdate_element(driver)\n\u001b[0;32m     42\u001b[0m \u001b[39mprint\u001b[39m(entry)\n\u001b[1;32m---> 43\u001b[0m entry\u001b[39m.\u001b[39;49mwrite_answer(driver)\n\u001b[0;32m     45\u001b[0m \u001b[39m#append entry to entries list\u001b[39;00m\n\u001b[0;32m     46\u001b[0m entries\u001b[39m.\u001b[39mappend(entry)\n",
      "File \u001b[1;32mc:\\Users\\JoshG\\Documents\\Machine Learning\\JobApp_Automation\\wd_classes.py:222\u001b[0m, in \u001b[0;36mFormEntry.write_answer\u001b[1;34m(self, driver)\u001b[0m\n\u001b[0;32m    220\u001b[0m     wait\u001b[39m.\u001b[39muntil(EC\u001b[39m.\u001b[39mpresence_of_element_located((By\u001b[39m.\u001b[39mCSS_SELECTOR, \u001b[39m\"\u001b[39m\u001b[39m[data-uxi-widget-type=\u001b[39m\u001b[39m'\u001b[39m\u001b[39mpopup\u001b[39m\u001b[39m'\u001b[39m\u001b[39m]\u001b[39m\u001b[39m\"\u001b[39m)))\n\u001b[0;32m    221\u001b[0m     dropdown_answer \u001b[39m=\u001b[39m \u001b[39mself\u001b[39m\u001b[39m.\u001b[39melement\u001b[39m.\u001b[39mfind_element_by_xpath(\u001b[39mf\u001b[39m\u001b[39m\"\u001b[39m\u001b[39m//div[@data-uxi-widget-type=\u001b[39m\u001b[39m'\u001b[39m\u001b[39mpopup\u001b[39m\u001b[39m'\u001b[39m\u001b[39m]/descendant::div[normalize-space(text())=\u001b[39m\u001b[39m'\u001b[39m\u001b[39m{\u001b[39;00mdesired_answer\u001b[39m}\u001b[39;00m\u001b[39m'\u001b[39m\u001b[39m]\u001b[39m\u001b[39m\"\u001b[39m)\n\u001b[1;32m--> 222\u001b[0m     dropdown_answer\u001b[39m.\u001b[39;49mclick()\n\u001b[0;32m    224\u001b[0m \u001b[39melif\u001b[39;00m \u001b[39mself\u001b[39m\u001b[39m.\u001b[39manswer_type \u001b[39m==\u001b[39m \u001b[39m\"\u001b[39m\u001b[39mDISABILITY\u001b[39m\u001b[39m\"\u001b[39m:\n\u001b[0;32m    225\u001b[0m     answer_label \u001b[39m=\u001b[39m \u001b[39mself\u001b[39m\u001b[39m.\u001b[39melement\u001b[39m.\u001b[39mfind_element_by_xpath(\u001b[39mf\u001b[39m\u001b[39m\"\u001b[39m\u001b[39m//label[normalize-space(text())=\u001b[39m\u001b[39m'\u001b[39m\u001b[39m{\u001b[39;00m\u001b[39mself\u001b[39m\u001b[39m.\u001b[39manswer\u001b[39m}\u001b[39;00m\u001b[39m'\u001b[39m\u001b[39m]\u001b[39m\u001b[39m\"\u001b[39m)\n",
      "File \u001b[1;32mc:\\Users\\JoshG\\anaconda3\\envs\\machinelearning\\lib\\site-packages\\selenium\\webdriver\\remote\\webelement.py:80\u001b[0m, in \u001b[0;36mWebElement.click\u001b[1;34m(self)\u001b[0m\n\u001b[0;32m     78\u001b[0m \u001b[39mdef\u001b[39;00m \u001b[39mclick\u001b[39m(\u001b[39mself\u001b[39m):\n\u001b[0;32m     79\u001b[0m     \u001b[39m\"\"\"Clicks the element.\"\"\"\u001b[39;00m\n\u001b[1;32m---> 80\u001b[0m     \u001b[39mself\u001b[39;49m\u001b[39m.\u001b[39;49m_execute(Command\u001b[39m.\u001b[39;49mCLICK_ELEMENT)\n",
      "File \u001b[1;32mc:\\Users\\JoshG\\anaconda3\\envs\\machinelearning\\lib\\site-packages\\selenium\\webdriver\\remote\\webelement.py:633\u001b[0m, in \u001b[0;36mWebElement._execute\u001b[1;34m(self, command, params)\u001b[0m\n\u001b[0;32m    631\u001b[0m     params \u001b[39m=\u001b[39m {}\n\u001b[0;32m    632\u001b[0m params[\u001b[39m'\u001b[39m\u001b[39mid\u001b[39m\u001b[39m'\u001b[39m] \u001b[39m=\u001b[39m \u001b[39mself\u001b[39m\u001b[39m.\u001b[39m_id\n\u001b[1;32m--> 633\u001b[0m \u001b[39mreturn\u001b[39;00m \u001b[39mself\u001b[39;49m\u001b[39m.\u001b[39;49m_parent\u001b[39m.\u001b[39;49mexecute(command, params)\n",
      "File \u001b[1;32mc:\\Users\\JoshG\\anaconda3\\envs\\machinelearning\\lib\\site-packages\\selenium\\webdriver\\remote\\webdriver.py:321\u001b[0m, in \u001b[0;36mWebDriver.execute\u001b[1;34m(self, driver_command, params)\u001b[0m\n\u001b[0;32m    319\u001b[0m response \u001b[39m=\u001b[39m \u001b[39mself\u001b[39m\u001b[39m.\u001b[39mcommand_executor\u001b[39m.\u001b[39mexecute(driver_command, params)\n\u001b[0;32m    320\u001b[0m \u001b[39mif\u001b[39;00m response:\n\u001b[1;32m--> 321\u001b[0m     \u001b[39mself\u001b[39;49m\u001b[39m.\u001b[39;49merror_handler\u001b[39m.\u001b[39;49mcheck_response(response)\n\u001b[0;32m    322\u001b[0m     response[\u001b[39m'\u001b[39m\u001b[39mvalue\u001b[39m\u001b[39m'\u001b[39m] \u001b[39m=\u001b[39m \u001b[39mself\u001b[39m\u001b[39m.\u001b[39m_unwrap_value(\n\u001b[0;32m    323\u001b[0m         response\u001b[39m.\u001b[39mget(\u001b[39m'\u001b[39m\u001b[39mvalue\u001b[39m\u001b[39m'\u001b[39m, \u001b[39mNone\u001b[39;00m))\n\u001b[0;32m    324\u001b[0m     \u001b[39mreturn\u001b[39;00m response\n",
      "File \u001b[1;32mc:\\Users\\JoshG\\anaconda3\\envs\\machinelearning\\lib\\site-packages\\selenium\\webdriver\\remote\\errorhandler.py:242\u001b[0m, in \u001b[0;36mErrorHandler.check_response\u001b[1;34m(self, response)\u001b[0m\n\u001b[0;32m    240\u001b[0m         alert_text \u001b[39m=\u001b[39m value[\u001b[39m'\u001b[39m\u001b[39malert\u001b[39m\u001b[39m'\u001b[39m]\u001b[39m.\u001b[39mget(\u001b[39m'\u001b[39m\u001b[39mtext\u001b[39m\u001b[39m'\u001b[39m)\n\u001b[0;32m    241\u001b[0m     \u001b[39mraise\u001b[39;00m exception_class(message, screen, stacktrace, alert_text)\n\u001b[1;32m--> 242\u001b[0m \u001b[39mraise\u001b[39;00m exception_class(message, screen, stacktrace)\n",
      "\u001b[1;31mElementNotInteractableException\u001b[0m: Message: element not interactable\n  (Session info: chrome=109.0.5414.120)\n"
     ]
    }
   ],
   "source": [
    "page_auto_id = 'contactInformationPage'\n",
    "answers_database = 'Answers.xlsx'\n",
    "answer_sheet_name = 'Answers'\n",
    "\n",
    "fill_section(driver, page_auto_id,start_of_sheets_name=answer_sheet_name,qa_database=answers_database)\n",
    "\n",
    "go_to_next()\n",
    "\n",
    "wait_data_automation_id_loaded('workExperienceSection')\n",
    "add_sub_section('workExperienceSection',positioning='descendant')\n",
    "\n",
    "fill_section(driver,'workExperience-',start_of_sheets_name='WorkExp',qa_database=answers_database,numb_sheets=2)\n",
    "\n",
    "add_sub_section(\"educationSection\",positioning=\"descendant\")\n",
    "\n",
    "fill_section(driver,'education-',start_of_sheets_name='Education',qa_database=answers_database,numb_sheets=2)\n",
    "\n",
    "file_path = \"C:\\\\Users\\\\JoshG\\\\Documents\\\\Machine Learning\\\\JobApp_Automation\\\\Sample Resume.docx\"\n",
    "upload_file(file_path)\n",
    "\n",
    "go_to_next()\n",
    "\n",
    "fill_section(driver,'primaryQuestionnairePage',start_of_sheets_name='Answers',qa_database=answers_database,numb_sheets=1)\n",
    "\n",
    "go_to_next()\n",
    "\n",
    "fill_section(driver,'voluntaryDisclosuresPage',start_of_sheets_name='RacistQuestions',qa_database=answers_database,numb_sheets=1)\n",
    "\n",
    "go_to_next()\n",
    "\n",
    "fill_section(driver,'selfIdentificationPage',start_of_sheets_name='Disabilities',qa_database=answers_database,numb_sheets=1)"
   ]
  },
  {
   "cell_type": "code",
   "execution_count": null,
   "metadata": {},
   "outputs": [],
   "source": []
  }
 ],
 "metadata": {
  "kernelspec": {
   "display_name": "machinelearning",
   "language": "python",
   "name": "python3"
  },
  "language_info": {
   "codemirror_mode": {
    "name": "ipython",
    "version": 3
   },
   "file_extension": ".py",
   "mimetype": "text/x-python",
   "name": "python",
   "nbconvert_exporter": "python",
   "pygments_lexer": "ipython3",
   "version": "3.10.8"
  },
  "orig_nbformat": 4,
  "vscode": {
   "interpreter": {
    "hash": "836d562c9a2f2db41caf390e7d6dc0b12da5fac298520fd60cdbf1bb1a94f30b"
   }
  }
 },
 "nbformat": 4,
 "nbformat_minor": 2
}
