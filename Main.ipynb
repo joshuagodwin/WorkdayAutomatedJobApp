{
 "cells": [
  {
   "attachments": {},
   "cell_type": "markdown",
   "metadata": {},
   "source": [
    "Import Required Packages"
   ]
  },
  {
   "cell_type": "code",
   "execution_count": 19,
   "metadata": {},
   "outputs": [],
   "source": [
    "#|export\n",
    "from selenium import webdriver\n",
    "from selenium.webdriver.chrome.options import Options\n",
    "from selenium.common.exceptions import NoSuchElementException\n",
    "import psutil\n",
    "from selenium.webdriver.common.by import By\n",
    "from selenium.webdriver.support.ui import WebDriverWait\n",
    "from selenium.webdriver.support import expected_conditions as EC\n",
    "import time\n",
    "import pandas as pd\n",
    "from selenium.webdriver.common.keys import Keys\n",
    "from selenium.webdriver.common.action_chains import ActionChains\n",
    "import wd_classes\n",
    "from wd_classes import FormEntry\n",
    "import importlib\n",
    "importlib.reload(wd_classes)\n",
    "from wd_classes import FormEntry\n",
    "\n",
    "from openpyxl import load_workbook"
   ]
  },
  {
   "attachments": {},
   "cell_type": "markdown",
   "metadata": {},
   "source": [
    "Get current open chrome browser"
   ]
  },
  {
   "cell_type": "code",
   "execution_count": 2,
   "metadata": {},
   "outputs": [
    {
     "name": "stderr",
     "output_type": "stream",
     "text": [
      "C:\\Users\\JoshG\\AppData\\Local\\Temp\\ipykernel_15696\\1268542835.py:9: DeprecationWarning: use options instead of chrome_options\n",
      "  driver = webdriver.Chrome(chrome_driver, chrome_options=chrome_options)\n"
     ]
    }
   ],
   "source": [
    "#|export\n",
    "chrome_options = Options()\n",
    "chrome_options.add_experimental_option(\"debuggerAddress\", \"127.0.0.1:9222\")\n",
    "\n",
    "#Change chrome driver path accordingly\n",
    "#Before doing this launch chrome using cmd prompt command: chrome.exe --remote-debugging-port=9222 --user-data-dir=\"C:\\Users\\JoshG\\Documents\\Machine Learning\\JobApp_Automation\\ChromeProfile\"\n",
    "chrome_driver = \"C:/Users/JoshG/AppData/Local/Microsoft/WindowsApps/chromedriver.exe\"\n",
    "\n",
    "driver = webdriver.Chrome(chrome_driver, chrome_options=chrome_options)"
   ]
  },
  {
   "attachments": {},
   "cell_type": "markdown",
   "metadata": {},
   "source": [
    "Error Handling"
   ]
  },
  {
   "cell_type": "code",
   "execution_count": 3,
   "metadata": {},
   "outputs": [
    {
     "name": "stdout",
     "output_type": "stream",
     "text": [
      "page did not move past login page\n",
      "Account not created\n",
      "answer type is not valid\n"
     ]
    }
   ],
   "source": [
    "#errors\n",
    "\n",
    "class stuck_on_login_page(Exception):\n",
    "    print(f'page did not move past login page')\n",
    "    pass\n",
    "\n",
    "class stuck_on_create_account(Exception):\n",
    "    print(f'Account not created')\n",
    "    pass\n",
    "\n",
    "class invalid_form_entry_type(Exception):\n",
    "    print(f'answer type is not valid')"
   ]
  },
  {
   "attachments": {},
   "cell_type": "markdown",
   "metadata": {},
   "source": [
    "Functions"
   ]
  },
  {
   "cell_type": "code",
   "execution_count": 4,
   "metadata": {},
   "outputs": [],
   "source": [
    "#get login info saved in csv database\n",
    "def wd_get_login_info(company_name,database=\"login_info.csv\"):\n",
    "    #open csv database\n",
    "    df = pd.read_csv(database,dtype={'Password': str})\n",
    "    \n",
    "    #get email and password\n",
    "    email = df.loc[df[\"Company\"] == company_name, 'Email']\n",
    "    email = email.values[0]\n",
    "    password = df.loc[df[\"Company\"] == company_name, 'Password']\n",
    "    password = password.values[0]\n",
    "\n",
    "    return email, password"
   ]
  },
  {
   "cell_type": "code",
   "execution_count": 5,
   "metadata": {},
   "outputs": [
    {
     "name": "stdout",
     "output_type": "stream",
     "text": [
      "email: test@test.com, password 123456\n"
     ]
    }
   ],
   "source": [
    "email, password = wd_get_login_info('Test Company')\n",
    "print(f'email: {email}, password {password}')\n"
   ]
  },
  {
   "cell_type": "code",
   "execution_count": 6,
   "metadata": {},
   "outputs": [],
   "source": [
    "#get login info saved in csv database\n",
    "def write_login_info(company_name,email,password,database=\"login_info.csv\"):\n",
    "    #open csv database\n",
    "    df = pd.read_csv(database)\n",
    "\n",
    "    # add a new row to the DataFrame with the new person's name and company name\n",
    "    new_row = pd.DataFrame({'Company': [f'{company_name}'], 'Email': [f'{email}'], 'Password': [f'{password}']})\n",
    "\n",
    "    # concatenate the new DataFrame with the existing DataFrame\n",
    "    df = pd.concat([df, new_row], ignore_index=False)\n",
    "\n",
    "    # write the updated DataFrame to the existing CSV file\n",
    "    df.to_csv('login_info.csv', index=False)"
   ]
  },
  {
   "cell_type": "code",
   "execution_count": 7,
   "metadata": {},
   "outputs": [],
   "source": [
    "#check if this url has a workday account in database\n",
    "def wd_check_account_exists(company_name, login_info=\"login_info.csv\"):\n",
    "    df = pd.read_csv(login_info,dtype={'Password': str})\n",
    "    if company_name in df[\"Company\"].values:\n",
    "        return True\n",
    "    else:\n",
    "        return False"
   ]
  },
  {
   "cell_type": "code",
   "execution_count": 8,
   "metadata": {},
   "outputs": [],
   "source": [
    "def check_page_type(page_type):\n",
    "    #check to see if on page = \"page_type\"\n",
    "    try:\n",
    "        page_title_obj = driver.find_element_by_xpath(f'//h2[text()=\"{page_type}\"]')\n",
    "    except:\n",
    "        return False\n",
    "    #page_title_obj = driver.find_element_by_id(\"authViewTitle\")\n",
    "    page_title = page_title_obj.text\n",
    "    print(page_title)\n",
    "    if page_title == page_type:\n",
    "        return True\n",
    "    else:\n",
    "        return False"
   ]
  },
  {
   "cell_type": "code",
   "execution_count": 9,
   "metadata": {},
   "outputs": [],
   "source": [
    "#create new wd account\n",
    "def wd_create_account(company_name, username, password):\n",
    "    #get form items\n",
    "    email_text_box = driver.find_element(By.XPATH, \"//*[contains(text(), 'Email Address')]/following::input[@type='text'][1]\")\n",
    "    password_text_box = driver.find_element_by_css_selector(\"input[data-automation-id='password']\")\n",
    "    verify_password_text_box = driver.find_element_by_css_selector(\"input[data-automation-id='verifyPassword']\")\n",
    "    terms_checkbox = driver.find_element_by_css_selector(\"input[data-automation-id='createAccountCheckbox']\")\n",
    "\n",
    "    #fill in form\n",
    "    email_text_box.clear()\n",
    "    email_text_box.send_keys(email)\n",
    "\n",
    "    #for some reason clear doesn't work with this field, so alternative is highlighting the text to clear\n",
    "    password_text_box.send_keys(Keys.CONTROL,\"a\", Keys.DELETE)\n",
    "    password_text_box.send_keys(password)\n",
    "    password_text_box.send_keys(Keys.TAB)\n",
    "\n",
    "    #See if password was accepted\n",
    "    try:\n",
    "        driver.find_element_by_css_selector(\"p[data-automation-id='inputError']\")\n",
    "        error_msg = driver.find_element_by_css_selector(\"p[data-automation-id='inputError']\")\n",
    "        if error_msg.is_displayed():\n",
    "            print(\"Passsword has error\")\n",
    "        else:\n",
    "            print(\"password valid, but inputerror label exists\")\n",
    "\n",
    "    except NoSuchElementException:\n",
    "        print(\"Password is valid\")\n",
    "\n",
    "    verify_password_text_box.clear()\n",
    "    verify_password_text_box.send_keys(password)\n",
    "\n",
    "    #check terms and conditions checkbox\n",
    "    if terms_checkbox.get_attribute(\"checked\") == \"true\":\n",
    "        print('was already checked')\n",
    "    else:\n",
    "        terms_checkbox.click()\n",
    "\n",
    "    #Get create account button\n",
    "    create_account_button = driver.find_element_by_xpath(\"//div[@aria-label='Create Account']\")\n",
    "    driver.implicitly_wait(1)\n",
    "    driver.execute_script(\"arguments[0].click();\", create_account_button)\n",
    "\n",
    "    #Add to database if account created successfully\n",
    "    if check_page_type('Create Account'):\n",
    "        raise stuck_on_create_account(\"Did not move on to next page from create account\")\n",
    "    else:\n",
    "        write_login_info(company_name, username, password)"
   ]
  },
  {
   "cell_type": "code",
   "execution_count": 10,
   "metadata": {},
   "outputs": [],
   "source": [
    "def wd_sign_in(email, password):\n",
    "    # Get email and password elements\n",
    "    email_text_box = driver.find_element(By.XPATH, \"//*[contains(text(), 'Email Address')]/following::input[@type='text'][1]\")\n",
    "    password_text_box = driver.find_element(By.XPATH, \"//*[contains(text(), 'password')]/following::input[@type='password'][1]\")\n",
    "    \n",
    "    \n",
    "    #Fill in email and password\n",
    "    email_text_box.send_keys(email)\n",
    "    password_text_box.send_keys(password)\n",
    "\n",
    "    #wait for a moment\n",
    "    driver.implicitly_wait(2)\n",
    "    \n",
    "    #Get sign in button and click\n",
    "    sign_in_button = driver.find_element_by_xpath(\"//div[@aria-label='Sign In']\")\n",
    "    driver.implicitly_wait(1)\n",
    "    driver.execute_script(\"arguments[0].click();\", sign_in_button)\n",
    "\n",
    "    driver.implicitly_wait(1)\n",
    "\n",
    "    \n",
    "    #check to see if still on same page\n",
    "    if check_page_type('login'):\n",
    "        raise stuck_on_login_page(\"Login Info Didn't Work\")\n",
    "    else:\n",
    "        print(\"no errors found on login page\")\n",
    "        \n"
   ]
  },
  {
   "cell_type": "code",
   "execution_count": 11,
   "metadata": {},
   "outputs": [],
   "source": [
    "def get_current_company():\n",
    "    #get url and pull the text after the first / after myworkdayjobs.com\n",
    "    current_url = driver.current_url\n",
    "\n",
    "    # Split the URL by \"/\"\n",
    "    parts = current_url.split(\"/\")\n",
    "\n",
    "    # Get the text following \".com/\" and before the next slash\n",
    "    company_name = parts[3]\n",
    "\n",
    "    return company_name"
   ]
  },
  {
   "cell_type": "code",
   "execution_count": 12,
   "metadata": {},
   "outputs": [],
   "source": [
    "def wd_login_page(new_email,new_password):\n",
    "    \n",
    "    wait = WebDriverWait(driver, 20)\n",
    "    wait.until(EC.presence_of_element_located((By.ID, \"input-4\")))\n",
    "    \n",
    "    current_company = get_current_company()\n",
    "\n",
    "    #check if account exists for this site and login if has account or create account and then login\n",
    "    if wd_check_account_exists(current_company) is True:\n",
    "        email, password = wd_get_login_info(current_company)\n",
    "        wd_sign_in(email, password)\n",
    "    else:\n",
    "        create_account_button = driver.find_element_by_xpath(\"//button[contains(text(), 'Create Account')]\")\n",
    "        create_account_button.click()\n",
    "        \n",
    "        wd_create_account(current_company, new_email, new_password)"
   ]
  },
  {
   "cell_type": "code",
   "execution_count": 13,
   "metadata": {},
   "outputs": [],
   "source": [
    "def wd_startYourApplication_page():\n",
    "    \n",
    "    wait = WebDriverWait(driver, 20)\n",
    "    wait.until(EC.presence_of_element_located((By.CSS_SELECTOR, \"[data-automation-id='applyManually']\")))\n",
    "\n",
    "    manual_apply_btn = driver.find_element_by_css_selector(\"a[data-automation-id='applyManually']\")\n",
    "    manual_apply_btn.click()\n",
    "\n",
    "def get_question_list():\n",
    "    pass\n",
    "\n",
    "def wd_myInformation_page():\n",
    "    get_question_list()\n",
    "    \n"
   ]
  },
  {
   "cell_type": "code",
   "execution_count": 14,
   "metadata": {},
   "outputs": [],
   "source": [
    "def answer_question(element,question_label,answer,answer_type='textbox'):\n",
    "    if answer_type == 'textbox':\n",
    "        element.send_keys(answer)\n",
    "    elif answer_type == 'button':\n",
    "        print(\"funcitonality not implemnted yet\")"
   ]
  },
  {
   "cell_type": "code",
   "execution_count": 138,
   "metadata": {},
   "outputs": [
    {
     "name": "stdout",
     "output_type": "stream",
     "text": [
      "no errors found on login page\n"
     ]
    }
   ],
   "source": [
    "#|export\n",
    "url = 'https://jci.wd5.myworkdayjobs.com/JCI/login?redirect=%2FJCI%2Fjob%2FMissoula-Montana-United-States-of-America%2FHVAC-Truck-Base-Mechanic--Union-_WD30167702%2Fapply%3Fsource%3DCareers_Section'\n",
    "email = \"pyEngineer69@outlook.com\"\n",
    "password = \"aTestPass@1234\"\n",
    "\n",
    "#get job posting url\n",
    "driver.get(url)\n",
    "\n",
    "#login or create account and log in\n",
    "wd_login_page(email, password)\n",
    "\n",
    "#Click on start manual application\n",
    "try:\n",
    "    wd_startYourApplication_page()\n",
    "except:\n",
    "    pass"
   ]
  },
  {
   "cell_type": "code",
   "execution_count": 39,
   "metadata": {},
   "outputs": [],
   "source": [
    "def get_answer(df,question):\n",
    "    #pull answer from form\n",
    "    try:\n",
    "        index = df.index[df['Questions'] == question].tolist()[0]\n",
    "        answer = df.at[index, 'Answers']\n",
    "    except:\n",
    "        answer = \"\"\n",
    "        print(f\"failed to get answer for: {question}\")\n",
    "\n",
    "    if pd.isna(answer):\n",
    "        answer = \"\"\n",
    "\n",
    "    return answer"
   ]
  },
  {
   "cell_type": "code",
   "execution_count": 43,
   "metadata": {},
   "outputs": [],
   "source": [
    "def load_page_by_dataautomationid(dataautomationid,t=20):\n",
    "    wait = WebDriverWait(driver, 20)\n",
    "    wait.until(EC.presence_of_element_located((By.CSS_SELECTOR, f\"[data-automation-id='{dataautomationid}']\")))\n",
    "    driver.implicitly_wait(0.5)"
   ]
  },
  {
   "cell_type": "code",
   "execution_count": 67,
   "metadata": {},
   "outputs": [],
   "source": [
    "import wd_classes\n",
    "from wd_classes import FormEntry\n",
    "import importlib\n",
    "importlib.reload(wd_classes)\n",
    "from wd_classes import FormEntry"
   ]
  },
  {
   "cell_type": "code",
   "execution_count": 68,
   "metadata": {},
   "outputs": [
    {
     "name": "stdout",
     "output_type": "stream",
     "text": [
      "length of # entrys: 15\n",
      "form element prior to writing answer: ID: input-1, tag: input, entry label: How Did You Hear About Us?, answer: LinkedIn, Other, OTR, answer type: MULTISELECT\n",
      "made it here\n",
      "Have you ever worked for JCI or one of its affiliates?\n",
      "form element prior to writing answer: ID: input-2, tag: div, entry label: Have you ever worked for JCI or one of its affiliates?, answer: No, answer type: None\n",
      "form element prior to writing answer: ID: input-3, tag: button, entry label: Country / Territory, answer: United States of America, USA, US, answer type: None\n",
      "form element prior to writing answer: ID: input-4, tag: input, entry label: First Name, answer: John, answer type: TEXTINPUT\n",
      "form element prior to writing answer: ID: input-5, tag: input, entry label: Last Name, answer: Smith, answer type: TEXTINPUT\n",
      "form element prior to writing answer: ID: input-6, tag: input, entry label: , answer: , answer type: CHECKBOX\n",
      "form element prior to writing answer: ID: input-7, tag: input, entry label: Address Line 1, answer: 1234 Example St, answer type: TEXTINPUT\n",
      "form element prior to writing answer: ID: input-8, tag: input, entry label: City, answer: Plano, answer type: TEXTINPUT\n",
      "form element prior to writing answer: ID: input-9, tag: button, entry label: State, answer: Texas, TX, answer type: None\n",
      "form element prior to writing answer: ID: input-10, tag: input, entry label: Postal Code, answer: 75074, answer type: TEXTINPUT\n",
      "Failed to get a label, ID: input-11\n",
      "form element prior to writing answer: ID: input-12, tag: button, entry label: Phone Device Type, answer: CELL, answer type: None\n",
      "form element prior to writing answer: ID: input-13, tag: input, entry label: Country / Territory Phone Code, answer: United States of America (+1), answer type: MULTISELECT\n",
      "form element prior to writing answer: ID: input-14, tag: input, entry label: Phone Number, answer: 9493312129, answer type: TEXTINPUT\n",
      "form element prior to writing answer: ID: input-15, tag: input, entry label: Phone Extension, answer: , answer type: TEXTINPUT\n"
     ]
    }
   ],
   "source": [
    "#|export\n",
    "#\n",
    "# #1st page of entry forms\n",
    "\n",
    "load_page_by_dataautomationid('contactInformationPage')\n",
    "\n",
    "#get question/answer database\n",
    "df = pd.read_excel('Answers.xlsx',sheet_name=\"Answers\",dtype=str)\n",
    "#display(df.head(5))\n",
    "\n",
    "# locate all input elements on the page\n",
    "inputs_list = driver.find_elements_by_css_selector(\"[id^='input-']\")\n",
    "print(f'length of # entrys: {len(inputs_list)}')\n",
    "\n",
    "entries = []\n",
    "#move through each form entry and fill in\n",
    "for element in inputs_list:\n",
    "    \n",
    "    #create element object\n",
    "    entry = FormEntry(element)\n",
    "    \n",
    "    entry.get_id()\n",
    "    entry.get_label()\n",
    "    entry.get_tag()\n",
    "    entry.get_answer_type()\n",
    "\n",
    "    #skip if a span element\n",
    "    if entry.tag == 'span':\n",
    "        continue\n",
    "\n",
    "    #pull answer from form\n",
    "    answer = get_answer(df,entry.label)\n",
    "    entry.add_answer(answer)\n",
    "\n",
    "    print(f\"form element prior to writing answer: {entry}\")\n",
    "\n",
    "    entry.write_answer(driver)\n",
    "        \n",
    "    #append entry to entries list\n",
    "    entries.append(entry)\n",
    "    driver.implicitly_wait(0.2)\n",
    "\n",
    "continue_button = driver.find_element_by_xpath(f\"//button[@data-automation-id='bottom-navigation-next-button']\")\n",
    "continue_button.click()\n"
   ]
  },
  {
   "cell_type": "code",
   "execution_count": 69,
   "metadata": {},
   "outputs": [
    {
     "data": {
      "text/html": [
       "<div>\n",
       "<style scoped>\n",
       "    .dataframe tbody tr th:only-of-type {\n",
       "        vertical-align: middle;\n",
       "    }\n",
       "\n",
       "    .dataframe tbody tr th {\n",
       "        vertical-align: top;\n",
       "    }\n",
       "\n",
       "    .dataframe thead th {\n",
       "        text-align: right;\n",
       "    }\n",
       "</style>\n",
       "<table border=\"1\" class=\"dataframe\">\n",
       "  <thead>\n",
       "    <tr style=\"text-align: right;\">\n",
       "      <th></th>\n",
       "      <th>Questions</th>\n",
       "      <th>Answers</th>\n",
       "    </tr>\n",
       "  </thead>\n",
       "  <tbody>\n",
       "    <tr>\n",
       "      <th>0</th>\n",
       "      <td>Job Title</td>\n",
       "      <td>Investigator</td>\n",
       "    </tr>\n",
       "    <tr>\n",
       "      <th>1</th>\n",
       "      <td>Company</td>\n",
       "      <td>Investigations Inc</td>\n",
       "    </tr>\n",
       "    <tr>\n",
       "      <th>2</th>\n",
       "      <td>Location</td>\n",
       "      <td>1234 auto st</td>\n",
       "    </tr>\n",
       "    <tr>\n",
       "      <th>3</th>\n",
       "      <td>I currently work here</td>\n",
       "      <td>yes</td>\n",
       "    </tr>\n",
       "    <tr>\n",
       "      <th>4</th>\n",
       "      <td>From</td>\n",
       "      <td>1/3/2023</td>\n",
       "    </tr>\n",
       "    <tr>\n",
       "      <th>5</th>\n",
       "      <td>To</td>\n",
       "      <td>NaN</td>\n",
       "    </tr>\n",
       "  </tbody>\n",
       "</table>\n",
       "</div>"
      ],
      "text/plain": [
       "               Questions             Answers\n",
       "0              Job Title        Investigator\n",
       "1                Company  Investigations Inc\n",
       "2               Location        1234 auto st\n",
       "3  I currently work here                 yes\n",
       "4                   From            1/3/2023\n",
       "5                     To                 NaN"
      ]
     },
     "execution_count": 69,
     "metadata": {},
     "output_type": "execute_result"
    }
   ],
   "source": [
    "#get question/answer database\n",
    "df_work = pd.read_excel('Answers.xlsx',sheet_name=\"WorkExp1\")\n",
    "df_work.head(6)"
   ]
  },
  {
   "cell_type": "code",
   "execution_count": 70,
   "metadata": {},
   "outputs": [
    {
     "name": "stdout",
     "output_type": "stream",
     "text": [
      "There are 2 sheets that start with the title 'workExperience'.\n"
     ]
    },
    {
     "name": "stderr",
     "output_type": "stream",
     "text": [
      "C:\\Users\\JoshG\\AppData\\Local\\Temp\\ipykernel_15696\\3438172813.py:2: DeprecationWarning: Call to deprecated function get_sheet_names (Use wb.sheetnames).\n",
      "  sheet_names = wb.get_sheet_names()\n"
     ]
    }
   ],
   "source": [
    "wb = load_workbook(\"Answers.xlsx\")\n",
    "sheet_names = wb.get_sheet_names()\n",
    "\n",
    "work_experience_sheets = [name for name in sheet_names if name.startswith(\"WorkExp\")]\n",
    "num_work_experience_sheets = len(work_experience_sheets)\n",
    "\n",
    "print(f\"There are {num_work_experience_sheets} sheets that start with the title 'workExperience'.\")\n"
   ]
  },
  {
   "cell_type": "code",
   "execution_count": 71,
   "metadata": {},
   "outputs": [],
   "source": [
    "def fill_section(driver, df, exp_container):\n",
    "    # locate all input elements in work experience 1\n",
    "    inputs_list = exp_container.find_elements_by_css_selector(\"[id^='input-']\")\n",
    "\n",
    "    #remove any elements that don't have their id ending in a number\n",
    "    new_inputs_list = []\n",
    "    for i in range(len(inputs_list)):\n",
    "        current_id = inputs_list[i].get_attribute('ID')\n",
    "        if current_id[-1].isdigit() != False:\n",
    "            new_inputs_list.append(inputs_list[i])\n",
    "    inputs_list = new_inputs_list\n",
    "\n",
    "    print(len(inputs_list))\n",
    "\n",
    "    #move through each form entry and fill in\n",
    "    entries = []\n",
    "    for element in inputs_list:\n",
    "        #make sure element still exists\n",
    "        try:\n",
    "            if len(driver.find_elements_by_xpath(f\"//*[@id='{element.get_attribute('ID')}']\")) > 0:\n",
    "                pass\n",
    "        except:\n",
    "            continue\n",
    "        \n",
    "        #create element object\n",
    "        entry = FormEntry(element)\n",
    "        \n",
    "        #get the type of answer form it is\n",
    "        entry.get_id()\n",
    "        entry.get_tag()\n",
    "        entry.get_answer_type()\n",
    "        entry.get_label()\n",
    "\n",
    "        #skip if a span element\n",
    "        if entry.tag == 'span':\n",
    "            continue\n",
    "\n",
    "        #pull answer from form\n",
    "        answer = get_answer(df,entry.label)\n",
    "        entry.add_answer(answer)\n",
    "\n",
    "        print(entry)\n",
    "\n",
    "        #fill in answer\n",
    "        entry.update_element(driver)\n",
    "        entry.write_answer(driver)\n",
    "            \n",
    "        #append entry to entries list\n",
    "        entries.append(entry)"
   ]
  },
  {
   "cell_type": "code",
   "execution_count": 79,
   "metadata": {},
   "outputs": [
    {
     "name": "stdout",
     "output_type": "stream",
     "text": [
      "7\n",
      "ID: input-596, tag: input, entry label: Job Title, answer: Investigator, answer type: TEXTINPUT\n",
      "ID: input-597, tag: input, entry label: Company, answer: Investigations Inc, answer type: TEXTINPUT\n",
      "ID: input-598, tag: input, entry label: Location, answer: 1234 auto st, answer type: TEXTINPUT\n",
      "ID: input-599, tag: input, entry label: I currently work here, answer: yes, answer type: CHECKBOX\n",
      "ID: input-602, tag: div, entry label: From, answer: 1/3/2023, answer type: DATE_MONTH_YEAR\n",
      "date to input: 1/3/2023, ID: input-602\n",
      "12023\n",
      "ID: input-606, tag: textarea, entry label: Role Description, answer: Work super hard, trust me bro, answer type: TEXTAREA\n"
     ]
    },
    {
     "ename": "ElementClickInterceptedException",
     "evalue": "Message: element click intercepted: Element <button aria-label=\"... Work Experience\" data-automation-id=\"Add Another\" font-size=\"14\" height=\"40\" class=\"css-2g95d\">Add Another</button> is not clickable at point (216, 996). Other element would receive the click: <ul class=\"css-vcngj\">...</ul>\n  (Session info: chrome=109.0.5414.120)\n",
     "output_type": "error",
     "traceback": [
      "\u001b[1;31m---------------------------------------------------------------------------\u001b[0m",
      "\u001b[1;31mElementClickInterceptedException\u001b[0m          Traceback (most recent call last)",
      "Cell \u001b[1;32mIn [79], line 31\u001b[0m\n\u001b[0;32m     28\u001b[0m \u001b[39mif\u001b[39;00m i \u001b[39m!=\u001b[39m num_work_experience_sheets:  \n\u001b[0;32m     29\u001b[0m     \u001b[39m#click work experience button\u001b[39;00m\n\u001b[0;32m     30\u001b[0m     add_exp_btn \u001b[39m=\u001b[39m driver\u001b[39m.\u001b[39mfind_elements_by_xpath(\u001b[39mf\u001b[39m\u001b[39m\"\u001b[39m\u001b[39m//button[@data-automation-id=\u001b[39m\u001b[39m'\u001b[39m\u001b[39mAdd Another\u001b[39m\u001b[39m'\u001b[39m\u001b[39m]\u001b[39m\u001b[39m\"\u001b[39m)\n\u001b[1;32m---> 31\u001b[0m     add_exp_btn[\u001b[39m0\u001b[39;49m]\u001b[39m.\u001b[39;49mclick()\n",
      "File \u001b[1;32mc:\\Users\\JoshG\\anaconda3\\envs\\machinelearning\\lib\\site-packages\\selenium\\webdriver\\remote\\webelement.py:80\u001b[0m, in \u001b[0;36mWebElement.click\u001b[1;34m(self)\u001b[0m\n\u001b[0;32m     78\u001b[0m \u001b[39mdef\u001b[39;00m \u001b[39mclick\u001b[39m(\u001b[39mself\u001b[39m):\n\u001b[0;32m     79\u001b[0m     \u001b[39m\"\"\"Clicks the element.\"\"\"\u001b[39;00m\n\u001b[1;32m---> 80\u001b[0m     \u001b[39mself\u001b[39;49m\u001b[39m.\u001b[39;49m_execute(Command\u001b[39m.\u001b[39;49mCLICK_ELEMENT)\n",
      "File \u001b[1;32mc:\\Users\\JoshG\\anaconda3\\envs\\machinelearning\\lib\\site-packages\\selenium\\webdriver\\remote\\webelement.py:633\u001b[0m, in \u001b[0;36mWebElement._execute\u001b[1;34m(self, command, params)\u001b[0m\n\u001b[0;32m    631\u001b[0m     params \u001b[39m=\u001b[39m {}\n\u001b[0;32m    632\u001b[0m params[\u001b[39m'\u001b[39m\u001b[39mid\u001b[39m\u001b[39m'\u001b[39m] \u001b[39m=\u001b[39m \u001b[39mself\u001b[39m\u001b[39m.\u001b[39m_id\n\u001b[1;32m--> 633\u001b[0m \u001b[39mreturn\u001b[39;00m \u001b[39mself\u001b[39;49m\u001b[39m.\u001b[39;49m_parent\u001b[39m.\u001b[39;49mexecute(command, params)\n",
      "File \u001b[1;32mc:\\Users\\JoshG\\anaconda3\\envs\\machinelearning\\lib\\site-packages\\selenium\\webdriver\\remote\\webdriver.py:321\u001b[0m, in \u001b[0;36mWebDriver.execute\u001b[1;34m(self, driver_command, params)\u001b[0m\n\u001b[0;32m    319\u001b[0m response \u001b[39m=\u001b[39m \u001b[39mself\u001b[39m\u001b[39m.\u001b[39mcommand_executor\u001b[39m.\u001b[39mexecute(driver_command, params)\n\u001b[0;32m    320\u001b[0m \u001b[39mif\u001b[39;00m response:\n\u001b[1;32m--> 321\u001b[0m     \u001b[39mself\u001b[39;49m\u001b[39m.\u001b[39;49merror_handler\u001b[39m.\u001b[39;49mcheck_response(response)\n\u001b[0;32m    322\u001b[0m     response[\u001b[39m'\u001b[39m\u001b[39mvalue\u001b[39m\u001b[39m'\u001b[39m] \u001b[39m=\u001b[39m \u001b[39mself\u001b[39m\u001b[39m.\u001b[39m_unwrap_value(\n\u001b[0;32m    323\u001b[0m         response\u001b[39m.\u001b[39mget(\u001b[39m'\u001b[39m\u001b[39mvalue\u001b[39m\u001b[39m'\u001b[39m, \u001b[39mNone\u001b[39;00m))\n\u001b[0;32m    324\u001b[0m     \u001b[39mreturn\u001b[39;00m response\n",
      "File \u001b[1;32mc:\\Users\\JoshG\\anaconda3\\envs\\machinelearning\\lib\\site-packages\\selenium\\webdriver\\remote\\errorhandler.py:242\u001b[0m, in \u001b[0;36mErrorHandler.check_response\u001b[1;34m(self, response)\u001b[0m\n\u001b[0;32m    240\u001b[0m         alert_text \u001b[39m=\u001b[39m value[\u001b[39m'\u001b[39m\u001b[39malert\u001b[39m\u001b[39m'\u001b[39m]\u001b[39m.\u001b[39mget(\u001b[39m'\u001b[39m\u001b[39mtext\u001b[39m\u001b[39m'\u001b[39m)\n\u001b[0;32m    241\u001b[0m     \u001b[39mraise\u001b[39;00m exception_class(message, screen, stacktrace, alert_text)\n\u001b[1;32m--> 242\u001b[0m \u001b[39mraise\u001b[39;00m exception_class(message, screen, stacktrace)\n",
      "\u001b[1;31mElementClickInterceptedException\u001b[0m: Message: element click intercepted: Element <button aria-label=\"... Work Experience\" data-automation-id=\"Add Another\" font-size=\"14\" height=\"40\" class=\"css-2g95d\">Add Another</button> is not clickable at point (216, 996). Other element would receive the click: <ul class=\"css-vcngj\">...</ul>\n  (Session info: chrome=109.0.5414.120)\n"
     ]
    }
   ],
   "source": [
    "#|export\n",
    "#\n",
    "#2nd page of entry forms\n",
    "load_page_by_dataautomationid('myExperiencePage')\n",
    "\n",
    "#delete any work experience\n",
    "delete_exp_btn = driver.find_elements_by_xpath(f\"//button[starts-with(@aria-label,'Delete Work Experience')]\")\n",
    "if len(delete_exp_btn) > 0:\n",
    "    for i in range(len(delete_exp_btn)):\n",
    "        delete_exp_btn[i].click()\n",
    "\n",
    "#click work experience button\n",
    "add_exp_btn = driver.find_elements_by_xpath(f\"//button[@aria-label='Add Work Experience']\")\n",
    "add_exp_btn[0].click()\n",
    "\n",
    "#fill in each form for each job\n",
    "for i in range(num_work_experience_sheets):\n",
    "    #get question/answer database\n",
    "    df_work = pd.read_excel('Answers.xlsx',sheet_name=f\"WorkExp{i+1}\", dtype=str)\n",
    "\n",
    "    #get the container for work experience\n",
    "    exp_container = driver.find_element_by_xpath(f\"//div[@data-automation-id='workExperience-{i+1}']\")\n",
    "\n",
    "    #fill in work experience section\n",
    "    fill_section(driver,df_work,exp_container)\n",
    "\n",
    "    #click on add another so long as not last work experience to add\n",
    "    if i != num_work_experience_sheets:  \n",
    "        #click work experience button\n",
    "        add_exp_btn = driver.find_elements_by_xpath(f\"//button[@data-automation-id='Add Another']\")\n",
    "        add_exp_btn[0].click()\n",
    "\n",
    "\n"
   ]
  },
  {
   "cell_type": "code",
   "execution_count": 80,
   "metadata": {},
   "outputs": [
    {
     "name": "stdout",
     "output_type": "stream",
     "text": [
      "There are 2 sheets that start with the title 'Education'.\n"
     ]
    },
    {
     "name": "stderr",
     "output_type": "stream",
     "text": [
      "C:\\Users\\JoshG\\AppData\\Local\\Temp\\ipykernel_15696\\138365976.py:2: DeprecationWarning: Call to deprecated function get_sheet_names (Use wb.sheetnames).\n",
      "  sheet_names = wb.get_sheet_names()\n"
     ]
    }
   ],
   "source": [
    "wb = load_workbook(\"Answers.xlsx\")\n",
    "sheet_names = wb.get_sheet_names()\n",
    "\n",
    "education_sheets = [name for name in sheet_names if name.startswith(\"Education\")]\n",
    "num_education_sheets = len(work_experience_sheets)\n",
    "\n",
    "print(f\"There are {num_education_sheets} sheets that start with the title 'Education'.\")"
   ]
  },
  {
   "cell_type": "code",
   "execution_count": 82,
   "metadata": {},
   "outputs": [
    {
     "name": "stdout",
     "output_type": "stream",
     "text": [
      "6\n",
      "ID: input-695, tag: input, entry label: School or University, answer: California State Polytechnic University Pomona, answer type: TEXTINPUT\n",
      "ID: input-696, tag: button, entry label: Degree, answer: Bachelors Degree, answer type: None\n",
      "ID: input-697, tag: input, entry label: Field of Study, answer: Mechanical engineering, answer type: MULTISELECT\n",
      "made it here\n",
      "ID: input-698, tag: input, entry label: Overall Result (GPA), answer: 3.5, answer type: TEXTINPUT\n",
      "ID: input-701, tag: div, entry label: From, answer: 01/01/2019, answer type: DATE_YEAR\n",
      "2019\n",
      "ID: input-704, tag: div, entry label: To (Actual or Expected), answer: 02/05/2022, answer type: DATE_YEAR\n",
      "2022\n",
      "6\n",
      "ID: input-771, tag: input, entry label: School or University, answer: Example University, answer type: TEXTINPUT\n",
      "ID: input-772, tag: button, entry label: Degree, answer: Bachelors Degree, answer type: None\n",
      "ID: input-773, tag: input, entry label: Field of Study, answer: Accounting, answer type: MULTISELECT\n",
      "made it here\n",
      "ID: input-774, tag: input, entry label: Overall Result (GPA), answer: 3, answer type: TEXTINPUT\n",
      "ID: input-777, tag: div, entry label: From, answer: 01/01/2016, answer type: DATE_YEAR\n",
      "2016\n",
      "ID: input-780, tag: div, entry label: To (Actual or Expected), answer: 01/01/2021, answer type: DATE_YEAR\n",
      "2021\n"
     ]
    }
   ],
   "source": [
    "#delete any education experience\n",
    "delete_ed_btn = driver.find_elements_by_xpath(f\"//button[starts-with(@aria-label,'Delete Education')]\")\n",
    "\n",
    "if len(delete_ed_btn) > 0:\n",
    "    print(range(len(delete_exp_btn)+1))\n",
    "    for i in range(len(delete_exp_btn)+1):\n",
    "        print(\"made it here\")\n",
    "        delete_ed_btn = driver.find_elements_by_xpath(f\"//button[starts-with(@aria-label,'Delete Education')]\")\n",
    "        delete_ed_btn[0].click()\n",
    "\n",
    "#click add  education button\n",
    "add_ed_btn = driver.find_elements_by_xpath(f\"//button[@aria-label='Add Education']\")\n",
    "add_ed_btn[0].click()\n",
    "\n",
    "#fill in each form for each education\n",
    "for i in range(num_education_sheets):\n",
    "    #get question/answer database\n",
    "    df_ed = pd.read_excel('Answers.xlsx',sheet_name=f\"Education{i+1}\", dtype=str)\n",
    "\n",
    "    #get the container for education\n",
    "    ed_container = driver.find_element_by_xpath(f\"//div[@data-automation-id='education-{i+1}']\")\n",
    "\n",
    "    #fill in education section\n",
    "    fill_section(driver,df_ed,ed_container)\n",
    "\n",
    "    #click on add another so long as not last work experience to add\n",
    "    if i+1 != num_education_sheets:  \n",
    "        #click work experience button\n",
    "        add_ed_btn = driver.find_elements_by_xpath(f\"//div[@data-automation-id='educationSection']/descendant::button[@data-automation-id='Add Another']\")\n",
    "        add_ed_btn[0].click()"
   ]
  },
  {
   "cell_type": "code",
   "execution_count": 136,
   "metadata": {},
   "outputs": [],
   "source": [
    "import wd_classes\n",
    "from wd_classes import FormEntry\n",
    "import importlib\n",
    "importlib.reload(wd_classes)\n",
    "from wd_classes import FormEntry"
   ]
  },
  {
   "cell_type": "code",
   "execution_count": 111,
   "metadata": {},
   "outputs": [],
   "source": [
    "def upload_file(file_path):\n",
    "    # Locate the upload button using its ID or CSS selector\n",
    "    upload_button = driver.find_element_by_xpath(f\"//input[@data-automation-id='file-upload-input-ref']\")\n",
    "    upload_button.send_keys(file_path)\n",
    "\n",
    "file_path = \"C:\\\\Users\\\\JoshG\\\\Documents\\\\Machine Learning\\\\JobApp_Automation\\\\Sample Resume.docx\"\n",
    "upload_file(file_path)"
   ]
  },
  {
   "cell_type": "code",
   "execution_count": 164,
   "metadata": {},
   "outputs": [],
   "source": [
    "def go_to_next():\n",
    "    continue_btn = driver.find_element_by_xpath(\"//button[@data-automation-id='bottom-navigation-next-button']\")\n",
    "    continue_btn.click()\n",
    "\n",
    "go_to_next()"
   ]
  },
  {
   "cell_type": "code",
   "execution_count": 144,
   "metadata": {},
   "outputs": [
    {
     "name": "stdout",
     "output_type": "stream",
     "text": [
      "5\n",
      "ID: input-92, tag: button, entry label: Are you at least 18 years of age? (If not, your employment is subject to verification that you are of at least legal age and that you are able to supply any required work permit)., answer: Yes, answer type: LISTBOX\n",
      "made it click\n",
      "ID: input-94, tag: button, entry label: Are you legally eligible to work in the country to which you are applying?, answer: Yes, answer type: LISTBOX\n",
      "made it click\n",
      "ID: input-96, tag: button, entry label: Will you now or in the future require sponsorship for employment Visa status to be eligible to work in the country to which you are applying?(e.g., H-1B Visa status/Work Visa/Work Permit)?, answer: No, answer type: LISTBOX\n",
      "made it click\n",
      "ID: input-98, tag: button, entry label: Have you ever been granted a government Security Clearance?, answer: No, answer type: LISTBOX\n",
      "made it click\n",
      "ID: input-100, tag: button, entry label: Have you signed an employment agreement or any kind of restrictive covenant, covenant not to compete, non-solicitation, or a contract of any kind that might restrict your ability to perform duties for this Company?, answer: No, answer type: LISTBOX\n",
      "made it click\n"
     ]
    }
   ],
   "source": [
    "df = pd.read_excel('Answers.xlsx',sheet_name=\"Answers\", dtype=str)\n",
    "\n",
    "section = driver.find_element_by_xpath(\"//div[@data-automation-id='primaryQuestionnairePage']\")\n",
    "fill_section(driver,df,section)\n"
   ]
  },
  {
   "cell_type": "code",
   "execution_count": 163,
   "metadata": {},
   "outputs": [
    {
     "name": "stdout",
     "output_type": "stream",
     "text": [
      "5\n",
      "ID: input-101, tag: button, entry label: Please select your gender which most accurately describes how you identify yourself., answer: Male, answer type: LISTBOX\n",
      "made it click\n",
      "ID: input-102, tag: button, entry label: Please select your race which most accurately describes how you identify yourself., answer: White (United States of America), answer type: LISTBOX\n",
      "made it click\n",
      "ID: input-103, tag: button, entry label: Please indicate if you are Hispanic or Latino., answer: No, answer type: LISTBOX\n",
      "made it click\n",
      "ID: input-104, tag: button, entry label: Please select the veteran status which most accurately describes your status., answer: I AM NOT A VETERAN, answer type: LISTBOX\n",
      "made it click\n",
      "ID: input-105, tag: input, entry label: I certify that I have read, fully understand and accept all terms of the foregoing statement., answer: Yes, answer type: CHECKBOX\n"
     ]
    }
   ],
   "source": [
    "df = pd.read_excel('Answers.xlsx',sheet_name=\"RacistQuestions\", dtype=str)\n",
    "\n",
    "section = driver.find_element_by_xpath(\"//div[@data-automation-id='voluntaryDisclosuresPage']\")\n",
    "fill_section(driver,df,section)"
   ]
  },
  {
   "cell_type": "code",
   "execution_count": null,
   "metadata": {},
   "outputs": [],
   "source": []
  }
 ],
 "metadata": {
  "kernelspec": {
   "display_name": "machinelearning",
   "language": "python",
   "name": "python3"
  },
  "language_info": {
   "codemirror_mode": {
    "name": "ipython",
    "version": 3
   },
   "file_extension": ".py",
   "mimetype": "text/x-python",
   "name": "python",
   "nbconvert_exporter": "python",
   "pygments_lexer": "ipython3",
   "version": "3.10.8"
  },
  "orig_nbformat": 4,
  "vscode": {
   "interpreter": {
    "hash": "836d562c9a2f2db41caf390e7d6dc0b12da5fac298520fd60cdbf1bb1a94f30b"
   }
  }
 },
 "nbformat": 4,
 "nbformat_minor": 2
}
