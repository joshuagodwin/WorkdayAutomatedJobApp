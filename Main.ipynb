{
 "cells": [
  {
   "attachments": {},
   "cell_type": "markdown",
   "metadata": {},
   "source": [
    "Import Required Packages"
   ]
  },
  {
   "cell_type": "code",
   "execution_count": 1,
   "metadata": {},
   "outputs": [],
   "source": [
    "#|export\n",
    "from selenium import webdriver\n",
    "from selenium.webdriver.chrome.options import Options\n",
    "from selenium.common.exceptions import NoSuchElementException\n",
    "import psutil\n",
    "from selenium.webdriver.common.by import By\n",
    "from selenium.webdriver.support.ui import WebDriverWait\n",
    "from selenium.webdriver.support import expected_conditions as EC\n",
    "import time\n",
    "import pandas as pd\n",
    "from selenium.webdriver.common.keys import Keys\n",
    "from selenium.webdriver.common.action_chains import ActionChains\n",
    "import wd_classes\n",
    "from wd_classes import FormEntry\n",
    "import importlib\n",
    "importlib.reload(wd_classes)\n",
    "from wd_classes import FormEntry\n",
    "from openpyxl import load_workbook\n",
    "import tkinter as tk\n",
    "import traceback"
   ]
  },
  {
   "cell_type": "code",
   "execution_count": 2,
   "metadata": {},
   "outputs": [
    {
     "data": {
      "text/plain": [
       "{'hInstApp': 42, 'hProcess': <PyHANDLE:0>}"
      ]
     },
     "execution_count": 2,
     "metadata": {},
     "output_type": "execute_result"
    }
   ],
   "source": [
    "import win32com.shell.shell as shell\n",
    "commands = 'chrome.exe --remote-debugging-port=9222 --user-data-dir=\"C:\\\\Users\\\\JoshG\\\\Documents\\Machine Learning\\\\JobApp_Automation\\\\ChromeProfile\"'\n",
    "shell.ShellExecuteEx(lpVerb='runas', lpFile='cmd.exe', lpParameters='/c '+commands)"
   ]
  },
  {
   "attachments": {},
   "cell_type": "markdown",
   "metadata": {},
   "source": [
    "Get current open chrome browser"
   ]
  },
  {
   "cell_type": "code",
   "execution_count": 3,
   "metadata": {},
   "outputs": [
    {
     "name": "stderr",
     "output_type": "stream",
     "text": [
      "C:\\Users\\JoshG\\AppData\\Local\\Temp\\ipykernel_1800\\401953248.py:7: DeprecationWarning: use options instead of chrome_options\n",
      "  driver = webdriver.Chrome(chrome_driver, chrome_options=chrome_options)\n"
     ]
    }
   ],
   "source": [
    "#|export\n",
    "chrome_options = Options()\n",
    "chrome_options.add_experimental_option(\"debuggerAddress\", \"127.0.0.1:9222\")\n",
    "\n",
    "chrome_driver = \"C:/Users/JoshG/AppData/Local/Microsoft/WindowsApps/chromedriver.exe\"\n",
    "\n",
    "driver = webdriver.Chrome(chrome_driver, chrome_options=chrome_options)"
   ]
  },
  {
   "attachments": {},
   "cell_type": "markdown",
   "metadata": {},
   "source": [
    "Error Handling"
   ]
  },
  {
   "cell_type": "code",
   "execution_count": 87,
   "metadata": {},
   "outputs": [],
   "source": [
    "import logging\n",
    "\n",
    "# Configure the logging system once\n",
    "logging.basicConfig(filename='logs.log', level=logging.INFO, filemode='w', force=True, datefmt=\"%Y-%m-%d %H:%M:%S\")\n",
    "\n",
    "# function to log text\n",
    "def log_text(text):\n",
    "    logging.info(text)"
   ]
  },
  {
   "cell_type": "code",
   "execution_count": 5,
   "metadata": {},
   "outputs": [
    {
     "name": "stdout",
     "output_type": "stream",
     "text": [
      "page did not move past login page\n",
      "Account not created\n",
      "answer type is not valid\n"
     ]
    }
   ],
   "source": [
    "class stuck_on_login_page(Exception):\n",
    "    print(f'page did not move past login page')\n",
    "    pass\n",
    "\n",
    "class stuck_on_create_account(Exception):\n",
    "    print(f'Account not created')\n",
    "    pass\n",
    "\n",
    "class invalid_form_entry_type(Exception):\n",
    "    print(f'answer type is not valid')"
   ]
  },
  {
   "attachments": {},
   "cell_type": "markdown",
   "metadata": {},
   "source": [
    "Functions"
   ]
  },
  {
   "cell_type": "code",
   "execution_count": 6,
   "metadata": {},
   "outputs": [],
   "source": [
    "#|export\n",
    "#get login info saved in csv database\n",
    "def wd_get_login_info(company_name,database=\"login_info.csv\"):\n",
    "    #open csv database\n",
    "    df = pd.read_csv(database,dtype={'Password': str})\n",
    "    \n",
    "    #get email and password\n",
    "    email = df.loc[df[\"Company\"] == company_name, 'Email']\n",
    "    email = email.values[0]\n",
    "    password = df.loc[df[\"Company\"] == company_name, 'Password']\n",
    "    password = password.values[0]\n",
    "\n",
    "    return email, password"
   ]
  },
  {
   "cell_type": "code",
   "execution_count": 7,
   "metadata": {},
   "outputs": [],
   "source": [
    "#|export\n",
    "#get login info saved in csv database\n",
    "def write_login_info(company_name,email,password,database=\"login_info.csv\"):\n",
    "    #open csv database\n",
    "    df = pd.read_csv(database)\n",
    "\n",
    "    # add a new row to the DataFrame with the new person's name and company name\n",
    "    new_row = pd.DataFrame({'Company': [f'{company_name}'], 'Email': [f'{email}'], 'Password': [f'{password}']})\n",
    "\n",
    "    # concatenate the new DataFrame with the existing DataFrame\n",
    "    df = pd.concat([df, new_row], ignore_index=False)\n",
    "\n",
    "    # write the updated DataFrame to the existing CSV file\n",
    "    df.to_csv('login_info.csv', index=False)"
   ]
  },
  {
   "cell_type": "code",
   "execution_count": 8,
   "metadata": {},
   "outputs": [],
   "source": [
    "#|export\n",
    "#check if this url has a workday account in database\n",
    "def wd_check_account_exists(company_name, login_info=\"login_info.csv\"):\n",
    "    df = pd.read_csv(login_info,dtype={'Password': str})\n",
    "    if company_name in df[\"Company\"].values:\n",
    "        return True\n",
    "    else:\n",
    "        return False"
   ]
  },
  {
   "cell_type": "code",
   "execution_count": 9,
   "metadata": {},
   "outputs": [],
   "source": [
    "#|export\n",
    "def check_page_type(page_type):\n",
    "    #check to see if on page = \"page_type\"\n",
    "    try:\n",
    "        page_title_obj = driver.find_element_by_xpath(f'//h2[text()=\"{page_type}\"]')\n",
    "    except:\n",
    "        return False\n",
    "    #page_title_obj = driver.find_element_by_id(\"authViewTitle\")\n",
    "    page_title = page_title_obj.text\n",
    "    print(page_title)\n",
    "    if page_title == page_type:\n",
    "        return True\n",
    "    else:\n",
    "        return False"
   ]
  },
  {
   "cell_type": "code",
   "execution_count": 10,
   "metadata": {},
   "outputs": [],
   "source": [
    "#|export\n",
    "#create new wd account\n",
    "def wd_create_account(company_name, username, password):\n",
    "    #get form items\n",
    "    email_text_box = driver.find_element(By.XPATH, \"//*[contains(text(), 'Email Address')]/following::input[@type='text'][1]\")\n",
    "    password_text_box = driver.find_element_by_css_selector(\"input[data-automation-id='password']\")\n",
    "    verify_password_text_box = driver.find_element_by_css_selector(\"input[data-automation-id='verifyPassword']\")\n",
    "    terms_checkbox = driver.find_element_by_css_selector(\"input[data-automation-id='createAccountCheckbox']\")\n",
    "\n",
    "    #fill in form\n",
    "    email_text_box.clear()\n",
    "    email_text_box.send_keys(email)\n",
    "\n",
    "    #for some reason clear doesn't work with this field, so alternative is highlighting the text to clear\n",
    "    password_text_box.send_keys(Keys.CONTROL,\"a\", Keys.DELETE)\n",
    "    password_text_box.send_keys(password)\n",
    "    password_text_box.send_keys(Keys.TAB)\n",
    "\n",
    "    #See if password was accepted\n",
    "    try:\n",
    "        driver.find_element_by_css_selector(\"p[data-automation-id='inputError']\")\n",
    "        error_msg = driver.find_element_by_css_selector(\"p[data-automation-id='inputError']\")\n",
    "        if error_msg.is_displayed():\n",
    "            print(\"Passsword has error\")\n",
    "        else:\n",
    "            print(\"password valid, but inputerror label exists\")\n",
    "\n",
    "    except NoSuchElementException:\n",
    "        print(\"Password is valid\")\n",
    "\n",
    "    verify_password_text_box.clear()\n",
    "    verify_password_text_box.send_keys(password)\n",
    "\n",
    "    #check terms and conditions checkbox\n",
    "    if terms_checkbox.get_attribute(\"checked\") == \"true\":\n",
    "        print('was already checked')\n",
    "    else:\n",
    "        terms_checkbox.click()\n",
    "\n",
    "    #Get create account button\n",
    "    create_account_button = driver.find_element_by_xpath(\"//div[@aria-label='Create Account']\")\n",
    "    driver.implicitly_wait(1)\n",
    "    driver.execute_script(\"arguments[0].click();\", create_account_button)\n",
    "\n",
    "    #Add to database if account created successfully\n",
    "    if check_page_type('Create Account'):\n",
    "        raise stuck_on_create_account(\"Did not move on to next page from create account\")\n",
    "    else:\n",
    "        write_login_info(company_name, username, password)"
   ]
  },
  {
   "cell_type": "code",
   "execution_count": 11,
   "metadata": {},
   "outputs": [],
   "source": [
    "#|export\n",
    "def wd_sign_in(email, password):\n",
    "    # Get email and password elements\n",
    "    email_text_box = driver.find_element(By.XPATH, \"//*[contains(text(), 'Email Address')]/following::input[@type='text'][1]\")\n",
    "    password_text_box = driver.find_element(By.XPATH, \"//*[contains(text(), 'password')]/following::input[@type='password'][1]\")\n",
    "    \n",
    "    \n",
    "    #Fill in email and password\n",
    "    email_text_box.send_keys(email)\n",
    "    password_text_box.send_keys(password)\n",
    "\n",
    "    #wait for a moment\n",
    "    driver.implicitly_wait(2)\n",
    "    \n",
    "    #Get sign in button and click\n",
    "    sign_in_button = driver.find_element_by_xpath(\"//div[@aria-label='Sign In']\")\n",
    "    driver.implicitly_wait(1)\n",
    "    driver.execute_script(\"arguments[0].click();\", sign_in_button)\n",
    "\n",
    "    driver.implicitly_wait(1)\n",
    "\n",
    "    \n",
    "    #check to see if still on same page\n",
    "    if check_page_type('login'):\n",
    "        raise stuck_on_login_page(\"Login Info Didn't Work\")\n",
    "    else:\n",
    "        print(\"no errors found on login page\")"
   ]
  },
  {
   "cell_type": "code",
   "execution_count": 12,
   "metadata": {},
   "outputs": [],
   "source": [
    "#|export\n",
    "def get_current_company():\n",
    "    #get url and pull the text after the first / after myworkdayjobs.com\n",
    "    current_url = driver.current_url\n",
    "\n",
    "    # Split the URL by \"/\"\n",
    "    parts = current_url.split(\"/\")\n",
    "\n",
    "    # Get the text following \".com/\" and before the next slash\n",
    "    company_name = parts[3]\n",
    "\n",
    "    return company_name"
   ]
  },
  {
   "cell_type": "code",
   "execution_count": 13,
   "metadata": {},
   "outputs": [],
   "source": [
    "#|export\n",
    "def wd_login_page(new_email,new_password):\n",
    "    \n",
    "    wait = WebDriverWait(driver, 20)\n",
    "    wait.until(EC.presence_of_element_located((By.ID, \"input-4\")))\n",
    "    \n",
    "    current_company = get_current_company()\n",
    "\n",
    "    #check if account exists for this site and login if has account or create account and then login\n",
    "    if wd_check_account_exists(current_company) is True:\n",
    "        email, password = wd_get_login_info(current_company)\n",
    "        wd_sign_in(email, password)\n",
    "    else:\n",
    "        create_account_button = driver.find_element_by_xpath(\"//button[contains(text(), 'Create Account')]\")\n",
    "        create_account_button.click()\n",
    "        \n",
    "        wd_create_account(current_company, new_email, new_password)"
   ]
  },
  {
   "cell_type": "code",
   "execution_count": 14,
   "metadata": {},
   "outputs": [],
   "source": [
    "#|export\n",
    "def wd_startYourApplication_page():\n",
    "    \n",
    "    wait = WebDriverWait(driver, 20)\n",
    "    wait.until(EC.presence_of_element_located((By.CSS_SELECTOR, \"[data-automation-id='applyManually']\")))\n",
    "\n",
    "    manual_apply_btn = driver.find_element_by_css_selector(\"a[data-automation-id='applyManually']\")\n",
    "    manual_apply_btn.click()"
   ]
  },
  {
   "cell_type": "code",
   "execution_count": 15,
   "metadata": {},
   "outputs": [],
   "source": [
    "#|export\n",
    "def get_answer(df,question):\n",
    "    #pull answer from form\n",
    "    try:\n",
    "        index = df.index[df['Questions'] == question].tolist()[0]\n",
    "        answer = df.at[index, 'Answers']\n",
    "    except:\n",
    "        answer = \"\"\n",
    "        print(f\"failed to get answer for: {question}\")\n",
    "\n",
    "    if pd.isna(answer):\n",
    "        answer = \"\"\n",
    "\n",
    "    return answer"
   ]
  },
  {
   "cell_type": "code",
   "execution_count": 23,
   "metadata": {},
   "outputs": [],
   "source": [
    "#|export\n",
    "def wait_data_automation_id_loaded(dataautomationid,t=2):\n",
    "    try:\n",
    "        wait = WebDriverWait(driver, t)\n",
    "        wait.until(EC.presence_of_element_located((By.CSS_SELECTOR, f\"[data-automation-id='{dataautomationid}']\")))\n",
    "        time.sleep(1)\n",
    "    except Exception as e:\n",
    "        print(\"start of wait data failure\")\n",
    "        traceback.print_exc()\n",
    "        print(str(e))\n",
    "        raise Exception(\"wait for loading failed\")\n"
   ]
  },
  {
   "cell_type": "code",
   "execution_count": 24,
   "metadata": {},
   "outputs": [],
   "source": [
    "def fill_sub_section(driver, df, exp_container):\n",
    "    # locate all input elements in work experience 1\n",
    "    inputs_list = exp_container.find_elements_by_css_selector(\"[id^='input-']\")\n",
    "\n",
    "    #remove any elements that don't have their id ending in a number\n",
    "    new_inputs_list = []\n",
    "    for i in range(len(inputs_list)):\n",
    "        current_id = inputs_list[i].get_attribute('ID')\n",
    "        if current_id[-1].isdigit() != False:\n",
    "            new_inputs_list.append(inputs_list[i])\n",
    "    inputs_list = new_inputs_list\n",
    "\n",
    "    #move through each form entry and fill in\n",
    "    entries = []\n",
    "    for element in inputs_list:\n",
    "        #make sure element still exists\n",
    "        try:\n",
    "            if len(driver.find_elements_by_xpath(f\"//*[@id='{element.get_attribute('ID')}']\")) > 0:\n",
    "                pass\n",
    "        except:\n",
    "            continue\n",
    "        \n",
    "        #create element object\n",
    "        entry = FormEntry(element)\n",
    "        \n",
    "        #get the type of answer form it is\n",
    "        entry.get_id()\n",
    "        entry.get_tag()\n",
    "        entry.get_answer_type()\n",
    "        entry.get_label()\n",
    "\n",
    "        #skip if a span element\n",
    "        if entry.tag == 'span':\n",
    "            continue\n",
    "\n",
    "        #pull answer from form\n",
    "        answer = get_answer(df,entry.label)\n",
    "        entry.add_answer(answer)\n",
    "\n",
    "        #fill in answer\n",
    "        entry.update_element(driver)\n",
    "        entry.write_answer(driver)\n",
    "            \n",
    "        #append entry to entries list\n",
    "        entries.append(entry)"
   ]
  },
  {
   "cell_type": "code",
   "execution_count": 96,
   "metadata": {},
   "outputs": [],
   "source": [
    "#|export\n",
    "def delete_sub_section(aria_label):\n",
    "    delete_btn = driver.find_elements_by_xpath(f\"//button[starts-with(@aria-label,{aria_label})]\")\n",
    "    logging.info(f\"Found {len(delete_btn)} delete buttons starting with aria-label: {aria_label}\")\n",
    "    if len(delete_btn) > 0:\n",
    "        for i in range(len(delete_btn)):\n",
    "            delete_btn_id = delete_btn[i].get_attribute('aria-label') \n",
    "            logging.info(f\"delete button: {aria_label} found\")\n",
    "            delete_btn[i].click()\n",
    "            logging.info(f\"clicked on button: {str(delete_btn_id)}\")\n",
    "    else:\n",
    "        logging.info(f\"No buttons found starting with aria-label: {aria_label}\")\n",
    "\n",
    "def add_sub_section(form_container_id,positioning='following-sibling'):\n",
    "    add_btn = driver.find_elements_by_xpath(f\"//*[@data-automation-id='{form_container_id}']/{positioning}::div//button[starts-with(@aria-label,'Add')]\")\n",
    "    add_btn[0].click()"
   ]
  },
  {
   "cell_type": "code",
   "execution_count": 97,
   "metadata": {},
   "outputs": [],
   "source": [
    "#|export\n",
    "def fill_section(browser_driver, container_auto_id, start_of_sheets_name, numb_sheets, qa_database, implicit_wait_time):\n",
    "    \n",
    "    #wait until page has loaded form\n",
    "    if numb_sheets == 1:\n",
    "        wait_data_automation_id_loaded(container_auto_id)\n",
    "    else:\n",
    "        wait_data_automation_id_loaded(f\"{container_auto_id}{1}\")\n",
    "\n",
    "    #get question/answer database and sheets\n",
    "    sheet_names = pd.ExcelFile(qa_database).sheet_names\n",
    "    sheets = [name for name in sheet_names if name.startswith(start_of_sheets_name)]\n",
    "    required_sheets = list(sheets)\n",
    "\n",
    "    #fill in each form for each job\n",
    "    for i in range(numb_sheets):\n",
    "\n",
    "        #put sheet required to fill in form as the active dataframe\n",
    "        df = pd.read_excel(qa_database,required_sheets[i],dtype=str)\n",
    "\n",
    "        #get the container element\n",
    "        if numb_sheets == 1:\n",
    "            form_container = driver.find_element_by_xpath(f\"//div[@data-automation-id='{container_auto_id}']\")\n",
    "        else:\n",
    "            form_container = driver.find_element_by_xpath(f\"//div[@data-automation-id='{container_auto_id}{(i+1)}']\")\n",
    "        \n",
    "        #fill in work experience section\n",
    "        fill_sub_section(driver,df,form_container)\n",
    "\n",
    "        #click on add another so long as not last work experience to add\n",
    "        if i+1 != numb_sheets and numb_sheets > 1:  \n",
    "            #click work experience button\n",
    "            form_container_id = form_container.get_attribute('data-automation-id')\n",
    "            add_sub_section(form_container_id, 'following-sibling')\n"
   ]
  },
  {
   "cell_type": "code",
   "execution_count": 27,
   "metadata": {},
   "outputs": [],
   "source": [
    "#|export\n",
    "def upload_file(file_path):\n",
    "    # Locate the upload button using its ID or CSS selector\n",
    "    upload_button = driver.find_element_by_xpath(f\"//input[@data-automation-id='file-upload-input-ref']\")\n",
    "    upload_button.send_keys(file_path)\n"
   ]
  },
  {
   "cell_type": "code",
   "execution_count": 28,
   "metadata": {},
   "outputs": [],
   "source": [
    "#|export\n",
    "#\n",
    "#click the save and continue button\n",
    "def go_to_next():\n",
    "    continue_btn = driver.find_element_by_xpath(\"//button[@data-automation-id='bottom-navigation-next-button']\")\n",
    "    continue_btn.click()\n"
   ]
  },
  {
   "cell_type": "code",
   "execution_count": 30,
   "metadata": {},
   "outputs": [],
   "source": [
    "#Open job link, sign in, and start manual application\n",
    "def start_job_app(url, email, password):\n",
    "    #get job posting url\n",
    "    driver.get(url)\n",
    "\n",
    "    #login or create account and log in\n",
    "    wd_login_page(email, password)\n",
    "\n",
    "    #Click on start manual application\n",
    "    try:\n",
    "        wd_startYourApplication_page()\n",
    "    except:\n",
    "        print(\"Apply manually button was not pressed. This could be because the job app had already been started or an error\")"
   ]
  },
  {
   "cell_type": "code",
   "execution_count": 32,
   "metadata": {},
   "outputs": [],
   "source": [
    "#Open job link, sign in, and start manual application\n",
    "def start_job_app(url, email, password):\n",
    "    #get job posting url\n",
    "    driver.get(url)\n",
    "\n",
    "    #login or create account and log in\n",
    "    wd_login_page(email, password)\n",
    "\n",
    "    #Click on start manual application\n",
    "    try:\n",
    "        wd_startYourApplication_page()\n",
    "    except:\n",
    "        print(\"Apply manually button was not pressed. This could be because the job app had already been started or an error\")\n",
    "\n"
   ]
  },
  {
   "cell_type": "code",
   "execution_count": 108,
   "metadata": {},
   "outputs": [],
   "source": [
    "def fill_all_forms():\n",
    "    global status_message\n",
    "    global i\n",
    "\n",
    "    file_path = \"C:\\\\Users\\\\JoshG\\\\Documents\\\\Machine Learning\\\\JobApp_Automation\\\\Sample Resume.docx\"\n",
    "    answers_database = 'Answers.xlsx'\n",
    "    implicit_wait_time = 0.2\n",
    "    \n",
    "    #list of functions ot run in order\n",
    "    functions = [\n",
    "            (fill_section, (driver, 'contactInformationPage', 'Answers', 1, answers_database, implicit_wait_time)),\n",
    "            (go_to_next, ()),\n",
    "            (delete_sub_section, (\"'Delete Work Experience'\",)),\n",
    "            (wait_data_automation_id_loaded, ('workExperienceSection',)),\n",
    "            (add_sub_section, ('workExperienceSection','descendant')),\n",
    "            (fill_section, (driver,'workExperience-','WorkExp',2, answers_database,implicit_wait_time)),\n",
    "            (delete_sub_section, (\"'Delete Education'\",)),\n",
    "            (add_sub_section, ('educationSection', 'descendant')),\n",
    "            (fill_section, (driver,'education-','Education',2,answers_database,implicit_wait_time)),\n",
    "            (upload_file, (file_path,)),\n",
    "            (go_to_next, ()),\n",
    "            (fill_section, (driver,'primaryQuestionnairePage','Answers',1,answers_database,implicit_wait_time)),\n",
    "            (go_to_next, ()),\n",
    "            (fill_section, (driver,'voluntaryDisclosuresPage','RacistQuestions',1,answers_database,implicit_wait_time)),\n",
    "            (go_to_next, ()),\n",
    "            (fill_section, (driver,'selfIdentificationPage','Disabilities',1,answers_database,implicit_wait_time))\n",
    "        ]\n",
    "\n",
    "    #figure out page on and start from that index\n",
    "    page_header = driver.find_elements_by_xpath(f\"//h2[@tabindex='-1']\")\n",
    "    header_names = []\n",
    "    for ele in page_header:\n",
    "        header_names.append(ele.text)\n",
    "    \n",
    "    logging.info(f\"header names are: {header_names}\")\n",
    "    #set index based on page|\n",
    "    if \"My Information\" in header_names:\n",
    "        i = 0\n",
    "    elif \"My Experience\" in header_names:\n",
    "        i = 2\n",
    "    elif \"Application Questions\" in header_names:\n",
    "        i = 11\n",
    "\n",
    "    #run functions starting from index i\n",
    "    while i < len(functions):\n",
    "        func, args = functions[i]\n",
    "        try:\n",
    "            func(*args)\n",
    "            i += 1\n",
    "        except Exception as e:\n",
    "            i = i + 1\n",
    "            traceback.print_exc()\n",
    "            logging.warning(f\"Error in function {func.__name__}, args: {args},  error exception: {str(e)}\")\n",
    "            status_message.set(f\"Warning, could not complete function: {func.__name__}, correct errors and then press continue\")\n",
    "            break\n"
   ]
  },
  {
   "cell_type": "code",
   "execution_count": 112,
   "metadata": {},
   "outputs": [
    {
     "name": "stdout",
     "output_type": "stream",
     "text": [
      "made it to here\n",
      "2019\n",
      "2022\n",
      "2016\n",
      "2021\n",
      "made it to here\n"
     ]
    },
    {
     "name": "stderr",
     "output_type": "stream",
     "text": [
      "Traceback (most recent call last):\n",
      "  File \"C:\\Users\\JoshG\\AppData\\Local\\Temp\\ipykernel_1800\\2307498737.py\", line 49, in fill_all_forms\n",
      "    func(*args)\n",
      "  File \"C:\\Users\\JoshG\\AppData\\Local\\Temp\\ipykernel_1800\\1022717066.py\", line 28, in fill_section\n",
      "    fill_sub_section(driver,df,form_container)\n",
      "  File \"C:\\Users\\JoshG\\AppData\\Local\\Temp\\ipykernel_1800\\2353847052.py\", line 42, in fill_sub_section\n",
      "    entry.write_answer(driver)\n",
      "  File \"c:\\Users\\JoshG\\Documents\\Machine Learning\\JobApp_Automation\\wd_classes.py\", line 188, in write_answer\n",
      "    self.element.click()\n",
      "  File \"c:\\Users\\JoshG\\anaconda3\\envs\\machinelearning\\lib\\site-packages\\selenium\\webdriver\\remote\\webelement.py\", line 80, in click\n",
      "    self._execute(Command.CLICK_ELEMENT)\n",
      "  File \"c:\\Users\\JoshG\\anaconda3\\envs\\machinelearning\\lib\\site-packages\\selenium\\webdriver\\remote\\webelement.py\", line 633, in _execute\n",
      "    return self._parent.execute(command, params)\n",
      "  File \"c:\\Users\\JoshG\\anaconda3\\envs\\machinelearning\\lib\\site-packages\\selenium\\webdriver\\remote\\webdriver.py\", line 321, in execute\n",
      "    self.error_handler.check_response(response)\n",
      "  File \"c:\\Users\\JoshG\\anaconda3\\envs\\machinelearning\\lib\\site-packages\\selenium\\webdriver\\remote\\errorhandler.py\", line 242, in check_response\n",
      "    raise exception_class(message, screen, stacktrace)\n",
      "selenium.common.exceptions.ElementClickInterceptedException: Message: element click intercepted: Element <input id=\"input-5458\" type=\"checkbox\" aria-checked=\"false\" data-automation-id=\"agreementCheckbox\" aria-required=\"true\" class=\"css-ze4fgk\" value=\"\"> is not clickable at point (664, 2052). Other element would receive the click: <div class=\"css-poz4k7\">...</div>\n",
      "  (Session info: chrome=109.0.5414.120)\n",
      "\n"
     ]
    }
   ],
   "source": [
    "#Create Simple Interface for Script\n",
    "\n",
    "root = tk.Tk()\n",
    "root.title(\"Simple GUI\")\n",
    "\n",
    "#Default Login Info\n",
    "email = tk.StringVar()\n",
    "email.set(\"pyEngineer69@outlook.com\")\n",
    "\n",
    "password = tk.StringVar()\n",
    "password.set(\"aTestPass@1234\")\n",
    "\n",
    "# Create a frame to group the components\n",
    "group_frame = tk.Frame(root)\n",
    "group_frame.pack(padx=10, pady=10)\n",
    "\n",
    "#Input Url Label\n",
    "link_label = tk.Label(group_frame, text='Input Job Application Url')\n",
    "link_label.grid(row=0, column=0, columnspan=3, padx=2,pady=2, sticky='w')\n",
    "\n",
    "url = tk.StringVar()\n",
    "url.set(\"https://jci.wd5.myworkdayjobs.com/JCI/login?redirect=%2FJCI%2Fjob%2FMissoula-Montana-United-States-of-America%2FHVAC-Truck-Base-Mechanic--Union-_WD30167702%2Fapply%3Fsource%3DCareers_Section\")\n",
    "\n",
    "status_message = tk.StringVar()\n",
    "status_message.set(\"\")\n",
    "\n",
    "#Input Url Box\n",
    "link_entry = tk.Entry(group_frame, width=50, textvariable=url)\n",
    "link_entry.grid(row=1, column=0, columnspan=3, padx=2, pady=10, sticky='w')\n",
    "\n",
    "def start_job_app_click():\n",
    "    url = link_entry.get()\n",
    "    email = email_entry.get()\n",
    "    password = password_entry.get()\n",
    "    start_job_app(url, email, password)\n",
    "\n",
    "# Start Application button\n",
    "start_button = tk.Button(group_frame, text=\"Start Application\", command=start_job_app_click)\n",
    "start_button.grid(row=2, column=0, padx=2, pady=2, sticky='w')\n",
    "\n",
    "# Continue button\n",
    "i = 0\n",
    "continue_button = tk.Button(group_frame, text=\"Continue\", command=fill_all_forms)\n",
    "continue_button.grid(row=2, column=1, padx=2, pady=2)\n",
    "\n",
    "# Output label\n",
    "error_label = tk.Label(group_frame, textvariable=status_message)\n",
    "error_label.grid(row=3, column=0, columnspan=3, padx=2, pady=2)\n",
    "\n",
    "#Login Entries\n",
    "email_label = tk.Label(group_frame, text=\"Email\")\n",
    "email_label.grid(row=4, column=0, columnspan=2, padx=2, pady=2, sticky=\"w\")\n",
    "email_entry = tk.Entry(group_frame, textvariable=email, width= 30)\n",
    "email_entry.grid(row=5, column=0,columnspan=2, padx=10, pady=10, sticky=\"w\")\n",
    "\n",
    "password_label = tk.Label(group_frame, text=\"Password\")\n",
    "password_label.grid(row=4, column=2, columnspan=2, padx=2, pady=2, sticky=\"w\")\n",
    "password_entry = tk.Entry(group_frame, textvariable=password, width=30)\n",
    "password_entry.grid(row=5, column=2, columnspan=2, padx=10, pady=10, sticky=\"w\")\n",
    "\n",
    "root.mainloop()"
   ]
  },
  {
   "cell_type": "code",
   "execution_count": null,
   "metadata": {},
   "outputs": [],
   "source": []
  }
 ],
 "metadata": {
  "kernelspec": {
   "display_name": "machinelearning",
   "language": "python",
   "name": "python3"
  },
  "language_info": {
   "codemirror_mode": {
    "name": "ipython",
    "version": 3
   },
   "file_extension": ".py",
   "mimetype": "text/x-python",
   "name": "python",
   "nbconvert_exporter": "python",
   "pygments_lexer": "ipython3",
   "version": "3.10.8"
  },
  "orig_nbformat": 4,
  "vscode": {
   "interpreter": {
    "hash": "836d562c9a2f2db41caf390e7d6dc0b12da5fac298520fd60cdbf1bb1a94f30b"
   }
  }
 },
 "nbformat": 4,
 "nbformat_minor": 2
}
