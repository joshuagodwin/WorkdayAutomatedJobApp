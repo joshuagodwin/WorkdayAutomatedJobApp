{
 "cells": [
  {
   "attachments": {},
   "cell_type": "markdown",
   "metadata": {},
   "source": [
    "Import Required Packages"
   ]
  },
  {
   "cell_type": "code",
   "execution_count": 189,
   "metadata": {},
   "outputs": [],
   "source": [
    "#|export\n",
    "from selenium import webdriver\n",
    "from selenium.webdriver.chrome.options import Options\n",
    "from selenium.common.exceptions import NoSuchElementException\n",
    "import psutil\n",
    "from selenium.webdriver.common.by import By\n",
    "from selenium.webdriver.support.ui import WebDriverWait\n",
    "from selenium.webdriver.support import expected_conditions as EC\n",
    "import time\n",
    "import pandas as pd\n",
    "from selenium.webdriver.common.keys import Keys\n",
    "from selenium.webdriver.common.action_chains import ActionChains\n",
    "import wd_classes\n",
    "from wd_classes import FormEntry\n",
    "import importlib\n",
    "importlib.reload(wd_classes)\n",
    "from wd_classes import FormEntry\n",
    "from openpyxl import load_workbook\n",
    "import tkinter as tk\n",
    "import traceback\n",
    "from fuzzywuzzy import fuzz\n"
   ]
  },
  {
   "cell_type": "code",
   "execution_count": 150,
   "metadata": {},
   "outputs": [
    {
     "data": {
      "text/plain": [
       "{'hInstApp': 42, 'hProcess': <PyHANDLE:0>}"
      ]
     },
     "execution_count": 150,
     "metadata": {},
     "output_type": "execute_result"
    }
   ],
   "source": [
    "import win32com.shell.shell as shell\n",
    "commands = 'chrome.exe --remote-debugging-port=9222 --user-data-dir=\"C:\\\\Users\\\\JoshG\\\\Documents\\Machine Learning\\\\JobApp_Automation\\\\ChromeProfile\"'\n",
    "shell.ShellExecuteEx(lpVerb='runas', lpFile='cmd.exe', lpParameters='/c '+commands)"
   ]
  },
  {
   "attachments": {},
   "cell_type": "markdown",
   "metadata": {},
   "source": [
    "Get current open chrome browser"
   ]
  },
  {
   "cell_type": "code",
   "execution_count": 151,
   "metadata": {},
   "outputs": [
    {
     "name": "stderr",
     "output_type": "stream",
     "text": [
      "C:\\Users\\JoshG\\AppData\\Local\\Temp\\ipykernel_8512\\401953248.py:7: DeprecationWarning: use options instead of chrome_options\n",
      "  driver = webdriver.Chrome(chrome_driver, chrome_options=chrome_options)\n"
     ]
    }
   ],
   "source": [
    "#|export\n",
    "chrome_options = Options()\n",
    "chrome_options.add_experimental_option(\"debuggerAddress\", \"127.0.0.1:9222\")\n",
    "\n",
    "chrome_driver = \"C:/Users/JoshG/AppData/Local/Microsoft/WindowsApps/chromedriver.exe\"\n",
    "\n",
    "driver = webdriver.Chrome(chrome_driver, chrome_options=chrome_options)"
   ]
  },
  {
   "attachments": {},
   "cell_type": "markdown",
   "metadata": {},
   "source": [
    "Error Handling"
   ]
  },
  {
   "cell_type": "code",
   "execution_count": 152,
   "metadata": {},
   "outputs": [
    {
     "data": {
      "text/plain": [
       "'\\n# Add a file handler\\nfh = logging.FileHandler(\\'logs.log\\')\\nfh.setLevel(logging.DEBUG)\\nformatter = logging.Formatter(\\'%(asctime)s - %(name)s - %(levelname)s - %(message)s\\', datefmt=\"%Y-%m-%d %H:%M:%S\")\\nfh.setFormatter(formatter)\\nlogger.addHandler(fh)\\n'"
      ]
     },
     "execution_count": 152,
     "metadata": {},
     "output_type": "execute_result"
    }
   ],
   "source": [
    "importlib.reload(logging_config)\n",
    "from logging_config import get_logger\n",
    "\n",
    "logger = get_logger(\"jupyter_notebook\")\n",
    "logger.debug(\"This is a debug message from the Jupyter notebook\")\n",
    "logger.info(\"This is an info message from the Jupyter notebook\")\n",
    "\"\"\"\n",
    "# Add a file handler\n",
    "fh = logging.FileHandler('logs.log')\n",
    "fh.setLevel(logging.DEBUG)\n",
    "formatter = logging.Formatter('%(asctime)s - %(name)s - %(levelname)s - %(message)s', datefmt=\"%Y-%m-%d %H:%M:%S\")\n",
    "fh.setFormatter(formatter)\n",
    "logger.addHandler(fh)\n",
    "\"\"\""
   ]
  },
  {
   "cell_type": "code",
   "execution_count": 153,
   "metadata": {},
   "outputs": [
    {
     "name": "stdout",
     "output_type": "stream",
     "text": [
      "page did not move past login page\n",
      "Account not created\n",
      "answer type is not valid\n"
     ]
    }
   ],
   "source": [
    "class stuck_on_login_page(Exception):\n",
    "    print(f'page did not move past login page')\n",
    "    pass\n",
    "\n",
    "class stuck_on_create_account(Exception):\n",
    "    print(f'Account not created')\n",
    "    pass\n",
    "\n",
    "class invalid_form_entry_type(Exception):\n",
    "    print(f'answer type is not valid')"
   ]
  },
  {
   "attachments": {},
   "cell_type": "markdown",
   "metadata": {},
   "source": [
    "Functions"
   ]
  },
  {
   "cell_type": "code",
   "execution_count": 154,
   "metadata": {},
   "outputs": [],
   "source": [
    "#|export\n",
    "#get login info saved in csv database\n",
    "def wd_get_login_info(company_name,database=\"login_info.csv\"):\n",
    "    #open csv database\n",
    "    df = pd.read_csv(database,dtype={'Password': str})\n",
    "    \n",
    "    #get email and password\n",
    "    email = df.loc[df[\"Company\"] == company_name, 'Email']\n",
    "    email = email.values[0]\n",
    "    password = df.loc[df[\"Company\"] == company_name, 'Password']\n",
    "    password = password.values[0]\n",
    "\n",
    "    return email, password"
   ]
  },
  {
   "cell_type": "code",
   "execution_count": 155,
   "metadata": {},
   "outputs": [],
   "source": [
    "#|export\n",
    "#get login info saved in csv database\n",
    "def write_login_info(company_name,email,password,database=\"login_info.csv\"):\n",
    "    #open csv database\n",
    "    df = pd.read_csv(database)\n",
    "\n",
    "    # add a new row to the DataFrame with the new person's name and company name\n",
    "    new_row = pd.DataFrame({'Company': [f'{company_name}'], 'Email': [f'{email}'], 'Password': [f'{password}']})\n",
    "\n",
    "    # concatenate the new DataFrame with the existing DataFrame\n",
    "    df = pd.concat([df, new_row], ignore_index=False)\n",
    "\n",
    "    # write the updated DataFrame to the existing CSV file\n",
    "    df.to_csv('login_info.csv', index=False)"
   ]
  },
  {
   "cell_type": "code",
   "execution_count": 156,
   "metadata": {},
   "outputs": [],
   "source": [
    "#|export\n",
    "#check if this url has a workday account in database\n",
    "def wd_check_account_exists(company_name, login_info=\"login_info.csv\"):\n",
    "    df = pd.read_csv(login_info,dtype={'Password': str})\n",
    "    if company_name in df[\"Company\"].values:\n",
    "        return True\n",
    "    else:\n",
    "        return False"
   ]
  },
  {
   "cell_type": "code",
   "execution_count": 157,
   "metadata": {},
   "outputs": [],
   "source": [
    "#|export\n",
    "def check_page_type(page_type):\n",
    "    #check to see if on page = \"page_type\"\n",
    "    try:\n",
    "        page_title_obj = driver.find_element_by_xpath(f'//h2[text()=\"{page_type}\"]')\n",
    "    except:\n",
    "        return False\n",
    "    #page_title_obj = driver.find_element_by_id(\"authViewTitle\")\n",
    "    page_title = page_title_obj.text\n",
    "    print(page_title)\n",
    "    if page_title == page_type:\n",
    "        return True\n",
    "    else:\n",
    "        return False"
   ]
  },
  {
   "cell_type": "code",
   "execution_count": 158,
   "metadata": {},
   "outputs": [],
   "source": [
    "#|export\n",
    "#create new wd account\n",
    "def wd_create_account(company_name, username, password):\n",
    "    #get form items\n",
    "    email_text_box = driver.find_element(By.XPATH, \"//*[contains(text(), 'Email Address')]/following::input[@type='text'][1]\")\n",
    "    password_text_box = driver.find_element_by_css_selector(\"input[data-automation-id='password']\")\n",
    "    verify_password_text_box = driver.find_element_by_css_selector(\"input[data-automation-id='verifyPassword']\")\n",
    "    terms_checkbox = driver.find_element_by_css_selector(\"input[data-automation-id='createAccountCheckbox']\")\n",
    "\n",
    "    #fill in form\n",
    "    email_text_box.clear()\n",
    "    email_text_box.send_keys(email)\n",
    "\n",
    "    #for some reason clear doesn't work with this field, so alternative is highlighting the text to clear\n",
    "    password_text_box.send_keys(Keys.CONTROL,\"a\", Keys.DELETE)\n",
    "    password_text_box.send_keys(password)\n",
    "    password_text_box.send_keys(Keys.TAB)\n",
    "\n",
    "    #See if password was accepted\n",
    "    try:\n",
    "        driver.find_element_by_css_selector(\"p[data-automation-id='inputError']\")\n",
    "        error_msg = driver.find_element_by_css_selector(\"p[data-automation-id='inputError']\")\n",
    "        if error_msg.is_displayed():\n",
    "            print(\"Passsword has error\")\n",
    "        else:\n",
    "            print(\"password valid, but inputerror label exists\")\n",
    "\n",
    "    except NoSuchElementException:\n",
    "        print(\"Password is valid\")\n",
    "\n",
    "    verify_password_text_box.clear()\n",
    "    verify_password_text_box.send_keys(password)\n",
    "\n",
    "    #check terms and conditions checkbox\n",
    "    if terms_checkbox.get_attribute(\"checked\") == \"true\":\n",
    "        print('was already checked')\n",
    "    else:\n",
    "        wait = WebDriverWait(driver,5)\n",
    "        wait.until(EC.elem)\n",
    "        terms_checkbox.click()\n",
    "\n",
    "    #Get create account button\n",
    "    create_account_button = driver.find_element_by_xpath(\"//div[@aria-label='Create Account']\")\n",
    "    driver.implicitly_wait(1)\n",
    "    driver.execute_script(\"arguments[0].click();\", create_account_button)\n",
    "\n",
    "    #Add to database if account created successfully\n",
    "    if check_page_type('Create Account'):\n",
    "        raise stuck_on_create_account(\"Did not move on to next page from create account\")\n",
    "    else:\n",
    "        write_login_info(company_name, username, password)"
   ]
  },
  {
   "cell_type": "code",
   "execution_count": 159,
   "metadata": {},
   "outputs": [],
   "source": [
    "#|export\n",
    "def wd_sign_in(email, password):\n",
    "    # Get email and password elements\n",
    "    email_text_box = driver.find_element(By.XPATH, \"//*[contains(text(), 'Email Address')]/following::input[@type='text'][1]\")\n",
    "    password_text_box = driver.find_element(By.XPATH, \"//*[contains(text(), 'password')]/following::input[@type='password'][1]\")\n",
    "    \n",
    "    \n",
    "    #Fill in email and password\n",
    "    email_text_box.send_keys(email)\n",
    "    password_text_box.send_keys(password)\n",
    "\n",
    "    #wait for a moment\n",
    "    driver.implicitly_wait(2)\n",
    "    \n",
    "    #Get sign in button and click\n",
    "    sign_in_button = driver.find_element_by_xpath(\"//div[@aria-label='Sign In']\")\n",
    "    driver.implicitly_wait(1)\n",
    "    driver.execute_script(\"arguments[0].click();\", sign_in_button)\n",
    "\n",
    "    driver.implicitly_wait(1)\n",
    "\n",
    "    \n",
    "    #check to see if still on same page\n",
    "    if check_page_type('login'):\n",
    "        raise stuck_on_login_page(\"Login Info Didn't Work\")\n",
    "    else:\n",
    "        print(\"no errors found on login page\")"
   ]
  },
  {
   "cell_type": "code",
   "execution_count": 160,
   "metadata": {},
   "outputs": [],
   "source": [
    "#|export\n",
    "def get_current_company():\n",
    "    #get url and pull the text after the first / after myworkdayjobs.com\n",
    "    current_url = driver.current_url\n",
    "\n",
    "    # Split the URL by \"/\"\n",
    "    parts = current_url.split(\"/\")\n",
    "\n",
    "    # Get the text following \".com/\" and before the next slash\n",
    "    company_name = parts[3]\n",
    "\n",
    "    return company_name"
   ]
  },
  {
   "cell_type": "code",
   "execution_count": 161,
   "metadata": {},
   "outputs": [],
   "source": [
    "#|export\n",
    "def wd_login_page(new_email,new_password):\n",
    "    \n",
    "    wait = WebDriverWait(driver, 20)\n",
    "    wait.until(EC.presence_of_element_located((By.ID, \"input-4\")))\n",
    "    \n",
    "    current_company = get_current_company()\n",
    "\n",
    "    #check if account exists for this site and login if has account or create account and then login\n",
    "    if wd_check_account_exists(current_company) is True:\n",
    "        email, password = wd_get_login_info(current_company)\n",
    "        wd_sign_in(email, password)\n",
    "    else:\n",
    "        create_account_button = driver.find_element_by_xpath(\"//button[contains(text(), 'Create Account')]\")\n",
    "        create_account_button.click()\n",
    "        \n",
    "        wd_create_account(current_company, new_email, new_password)"
   ]
  },
  {
   "cell_type": "code",
   "execution_count": 162,
   "metadata": {},
   "outputs": [],
   "source": [
    "#|export\n",
    "def wd_startYourApplication_page():\n",
    "    \n",
    "    wait = WebDriverWait(driver, 20)\n",
    "    wait.until(EC.presence_of_element_located((By.CSS_SELECTOR, \"[data-automation-id='applyManually']\")))\n",
    "\n",
    "    manual_apply_btn = driver.find_element_by_css_selector(\"a[data-automation-id='applyManually']\")\n",
    "    manual_apply_btn.click()"
   ]
  },
  {
   "cell_type": "code",
   "execution_count": 163,
   "metadata": {},
   "outputs": [],
   "source": [
    "#|export\n",
    "\n",
    "def fuzzy_match(df, question):\n",
    "    max_ratio = -1\n",
    "    index = -1\n",
    "    match_floor = 60\n",
    "    for i, row in df.iterrows():\n",
    "        ratio = fuzz.token_sort_ratio(row['Questions'], question)\n",
    "\n",
    "        if ratio > max_ratio:\n",
    "            max_ratio = ratio\n",
    "            index = i\n",
    "    return index, max_ratio\n",
    "\n",
    "def get_answer(df,question):\n",
    "    \n",
    "    #pull answer from form\n",
    "    try:\n",
    "        index, similarity = fuzzy_match(df, question)\n",
    "        if similarity < 60:\n",
    "            logger.info(f\"Similarity too low, could not find match for question {question}, set answer to blank\")\n",
    "            answer = \"\"\n",
    "            return answer\n",
    "        answer: str\n",
    "        answer = df.at[index, 'Answers']\n",
    "        logger.info(f\"answer found for question: {question}, answer is: {answer}\")\n",
    "        \n",
    "    except:\n",
    "        logger.info(f\"Couldn't get answer for {question}, set to blank answer\")\n",
    "        answer = \"\"\n",
    "\n",
    "    if pd.isna(answer):\n",
    "        logger.info(f\"Answer in database for {question} is NaN, set answer to blank\")\n",
    "        answer = \"\"\n",
    "\n",
    "    return answer"
   ]
  },
  {
   "cell_type": "code",
   "execution_count": 164,
   "metadata": {},
   "outputs": [
    {
     "name": "stdout",
     "output_type": "stream",
     "text": [
      "United States of America (+1)\n"
     ]
    }
   ],
   "source": [
    "df = pd.read_excel(\"Answers.xlsx\", sheet_name=\"Answers\", dtype=str)\n",
    "\n",
    "answer = get_answer(df, 'Country / Territory Phone Code')\n",
    "print(answer)"
   ]
  },
  {
   "cell_type": "code",
   "execution_count": 165,
   "metadata": {},
   "outputs": [],
   "source": [
    "#|export\n",
    "def wait_data_automation_id_loaded(dataautomationid,t=20):\n",
    "    try:\n",
    "        wait = WebDriverWait(driver, t)\n",
    "        wait.until(EC.presence_of_element_located((By.CSS_SELECTOR, f\"[data-automation-id='{dataautomationid}']\")))\n",
    "        time.sleep(1)\n",
    "    except Exception as e:\n",
    "        print(\"start of wait data failure\")\n",
    "        traceback.print_exc()\n",
    "        print(str(e))\n",
    "        raise Exception(\"wait for loading failed\")\n"
   ]
  },
  {
   "cell_type": "code",
   "execution_count": 166,
   "metadata": {},
   "outputs": [],
   "source": [
    "def fill_sub_section(driver, df, exp_container):\n",
    "    wait = WebDriverWait(driver, 2)\n",
    "    # locate all input elements in work experience 1\n",
    "    inputs_list = exp_container.find_elements_by_css_selector(\"[id^='input-']\")\n",
    "\n",
    "    #remove any elements that don't have their id ending in a number\n",
    "    new_inputs_list = []\n",
    "    for i in range(len(inputs_list)):\n",
    "        current_id = inputs_list[i].get_attribute('ID')\n",
    "        if current_id[-1].isdigit() != False:\n",
    "            new_inputs_list.append(inputs_list[i])\n",
    "    inputs_list = new_inputs_list\n",
    "\n",
    "    #move through each form entry and fill in\n",
    "    entries = []\n",
    "    for element in inputs_list:\n",
    "        #make sure element still exists\n",
    "        try:\n",
    "            if len(driver.find_elements_by_xpath(f\"//*[@id='{element.get_attribute('ID')}']\")) > 0:\n",
    "                pass\n",
    "            else:\n",
    "                logger.info(f\"Could not find element: {element}, this element was most likely an element that existed prior to an update to one of the previous entries\")\n",
    "                continue\n",
    "        except Exception as e:\n",
    "            logger.error(f\"Checking if element in input list failed\")\n",
    "            continue\n",
    "        \n",
    "        #create element object\n",
    "        entry = FormEntry(element)\n",
    "        \n",
    "        #get the type of answer form it is\n",
    "        entry.get_id()\n",
    "        entry.get_tag()\n",
    "        entry.get_answer_type()\n",
    "        entry.get_label()\n",
    "\n",
    "        #skip if a span element\n",
    "        if entry.tag == 'span':\n",
    "            continue\n",
    "        \n",
    "        #pull answer from form\n",
    "        answer = get_answer(df,entry.label)\n",
    "        entry.add_answer(answer)\n",
    "\n",
    "        #update to make sure element is current\n",
    "        entry.update_element(driver) \n",
    "\n",
    "        # Get window height\n",
    "        window_height = driver.execute_script(\"return window.innerHeight;\")\n",
    "        \n",
    "        \n",
    "        viewport_size = driver.execute_script(\"return {width: window.innerWidth, height: window.innerHeight};\")\n",
    "        size = entry.element.size\n",
    "\n",
    "        if element.location_once_scrolled_into_view['y'] >= 0:\n",
    "            logger.info(f\"Element: {entry}, is already in view\")\n",
    "            #logger.info(f\"Viewport size: {viewport_size['width']} x {viewport_size['height']}\")\n",
    "            #logger.info(f\"size of element {entry}: size: {size['width']} x {size['height']}\")\n",
    "            #actions = ActionChains(driver)\n",
    "            #actions.move_to_element_with_offset(entry.element,0,0.5).perform()\n",
    "            \n",
    "            #parent_element = entry.element.find_element_by_xpath(f\"./preceding-sibling\")\n",
    "            #driver.execute_script(\"window.scrollBy(0, arguments[0].getBoundingClientRect().bottom - window.innerHeight / 2);\", parent_element)\n",
    "            driver.execute_script(\"arguments[0].scrollIntoView(true);\", entry.element)\n",
    "                \n",
    "        else:\n",
    "            #driver.execute_script(\"window.scrollBy(0, arguments[0].getBoundingClientRect().top- window.innerHeight / 2);\", entry.element)\n",
    "            driver.execute_script(\"arguments[0].scrollIntoView(true);\", entry.element)    \n",
    "            \n",
    "            logger.info(f\"Viewport size: {viewport_size['width']} x {viewport_size['height']}\")\n",
    "            logger.info(f\"scrolled into view for element: {entry}, size of element Element size: {size['width']} x {size['height']}\")\n",
    "        \n",
    "        #fill in answer\n",
    "        #wait.until(EC.element_to_be_clickable((By.XPATH, f\"//*[@id='{entry.ID}']\")))\n",
    "        entry.write_answer(driver)\n",
    "            \n",
    "        #append entry to entries list\n",
    "        entries.append(entry)\n",
    "        "
   ]
  },
  {
   "cell_type": "code",
   "execution_count": 179,
   "metadata": {},
   "outputs": [],
   "source": [
    "#|export\n",
    "def delete_sub_section(aria_label):\n",
    "    delete_btn = driver.find_elements_by_xpath(f\"//button[starts-with(@aria-label,{aria_label})]\")\n",
    "    logger.info(f\"Found {len(delete_btn)} delete buttons starting with aria-label: {aria_label}\")\n",
    "    tries = 0\n",
    "    max_tries = 10\n",
    "    while len(delete_btn) > 0:\n",
    "        delete_btn_id = delete_btn[0].get_attribute('aria-label') \n",
    "        logger.info(f\"delete button: {aria_label} found\")\n",
    "        delete_btn[0].click()\n",
    "        logger.info(f\"clicked on button: {str(delete_btn_id)}\")\n",
    "        tries += 1\n",
    "        delete_btn = driver.find_elements_by_xpath(f\"//button[starts-with(@aria-label,{aria_label})]\")\n",
    "        if tries >= max_tries:\n",
    "            break\n",
    "    else:\n",
    "        logger.info(f\"No buttons found starting with aria-label: {aria_label}\")\n",
    "\n",
    "def add_sub_section(form_container_id,positioning='following-sibling'):\n",
    "    add_btn = driver.find_elements_by_xpath(f\"//*[@data-automation-id='{form_container_id}']/{positioning}::div//button[starts-with(@aria-label,'Add')]\")\n",
    "    add_btn[0].click()"
   ]
  },
  {
   "cell_type": "code",
   "execution_count": 168,
   "metadata": {},
   "outputs": [],
   "source": [
    "#|export\n",
    "def fill_section(browser_driver, container_auto_id, start_of_sheets_name, numb_sheets, qa_database, implicit_wait_time):\n",
    "    \n",
    "    #wait until page has loaded form\n",
    "    if numb_sheets == 1:\n",
    "        wait_data_automation_id_loaded(container_auto_id)\n",
    "    else:\n",
    "        wait_data_automation_id_loaded(f\"{container_auto_id}{1}\")\n",
    "\n",
    "    #get question/answer database and sheets\n",
    "    sheet_names = pd.ExcelFile(qa_database).sheet_names\n",
    "    sheets = [name for name in sheet_names if name.startswith(start_of_sheets_name)]\n",
    "    required_sheets = list(sheets)\n",
    "\n",
    "    #fill in each form for each job\n",
    "    for i in range(numb_sheets):\n",
    "\n",
    "        #put sheet required to fill in form as the active dataframe\n",
    "        df = pd.read_excel(qa_database,required_sheets[i],dtype=str)\n",
    "        \n",
    "        #get the container element\n",
    "        if numb_sheets == 1:\n",
    "            form_container = driver.find_element_by_xpath(f\"//div[@data-automation-id='{container_auto_id}']\")\n",
    "        else:\n",
    "            form_container = driver.find_element_by_xpath(f\"//div[@data-automation-id='{container_auto_id}{(i+1)}']\")\n",
    "        \n",
    "        #fill in work experience section\n",
    "        fill_sub_section(driver,df,form_container)\n",
    "\n",
    "        #click on add another so long as not last work experience to add\n",
    "        if i+1 != numb_sheets and numb_sheets > 1:  \n",
    "            #click work experience button\n",
    "            form_container_id = form_container.get_attribute('data-automation-id')\n",
    "            add_sub_section(form_container_id, 'following-sibling')\n"
   ]
  },
  {
   "cell_type": "code",
   "execution_count": 169,
   "metadata": {},
   "outputs": [],
   "source": [
    "#|export\n",
    "def upload_file(file_path):\n",
    "    # Locate the upload button using its ID or CSS selector\n",
    "    upload_button = driver.find_element_by_xpath(f\"//input[@data-automation-id='file-upload-input-ref']\")\n",
    "    upload_button.send_keys(file_path)\n"
   ]
  },
  {
   "cell_type": "code",
   "execution_count": 170,
   "metadata": {},
   "outputs": [],
   "source": [
    "#Open job link, sign in, and start manual application\n",
    "def start_job_app(url, email, password):\n",
    "    #get job posting url\n",
    "    driver.get(url)\n",
    "\n",
    "    #login or create account and log in\n",
    "    wd_login_page(email, password)\n",
    "\n",
    "    #Click on start manual application\n",
    "    try:\n",
    "        wd_startYourApplication_page()\n",
    "    except:\n",
    "        logger.warning(f\"Apply manually button was not pressed. This could be because the job app had already been started or an error\")\n",
    "\n"
   ]
  },
  {
   "cell_type": "code",
   "execution_count": 171,
   "metadata": {},
   "outputs": [],
   "source": [
    "def click_element(element_type, handle_type, value):\n",
    "    try:\n",
    "        wait = WebDriverWait(driver, 5)\n",
    "        wait.until(EC.element_to_be_clickable((By.XPATH,f\"//{element_type}[@{handle_type}='{value}']\"))).click()\n",
    "        logger.info(f\"succesfully clicked on {element_type} with handle_type = {handle_type}, and value = {value}\")\n",
    "    except Exception as e:\n",
    "        logger.error(f\"could not clicked with {element_type} with handle_type = {handle_type}, and value = {value}\")"
   ]
  },
  {
   "cell_type": "code",
   "execution_count": 172,
   "metadata": {},
   "outputs": [],
   "source": [
    "#|export\n",
    "#\n",
    "#click the save and continue button\n",
    "def go_to_next():\n",
    "    click_element('button','data-automation-id','bottom-navigation-next-button')\n"
   ]
  },
  {
   "cell_type": "code",
   "execution_count": 192,
   "metadata": {},
   "outputs": [],
   "source": [
    "def fill_all_forms(debug_index = 0):\n",
    "    global status_message\n",
    "    global i\n",
    "\n",
    "    #hide the pesky header that gets in way of interacting with objects\n",
    "    header = driver.find_element_by_tag_name(\"header\")\n",
    "    driver.execute_script(\"arguments[0].style.display='none'\", header)\n",
    "\n",
    "    file_path = \"C:\\\\Users\\\\JoshG\\\\Documents\\\\Machine Learning\\\\JobApp_Automation\\\\Sample Resume.docx\"\n",
    "    answers_database = 'Answers.xlsx'\n",
    "    implicit_wait_time = 0.2\n",
    "    \n",
    "    #list of functions ot run in order\n",
    "    functions = [\n",
    "            (fill_section, (driver, 'contactInformationPage', 'Answers', 1, answers_database, implicit_wait_time)),\n",
    "            (go_to_next, ()),\n",
    "            (wait_data_automation_id_loaded, ('workExperienceSection',)),\n",
    "            (delete_sub_section, (\"'Delete Work Experience'\",)),\n",
    "            (add_sub_section, ('workExperienceSection','descendant')),\n",
    "            (fill_section, (driver,'workExperience-','WorkExp',2, answers_database,implicit_wait_time)),\n",
    "            (delete_sub_section, (\"'Delete Education'\",)),\n",
    "            (add_sub_section, ('educationSection', 'descendant')),\n",
    "            (fill_section, (driver,'education-','Education',2,answers_database,implicit_wait_time)),\n",
    "            (upload_file, (file_path,)),\n",
    "            (go_to_next, ()),\n",
    "            (fill_section, (driver,'primaryQuestionnairePage','Answers',1,answers_database,implicit_wait_time)),\n",
    "            (go_to_next, ()),\n",
    "            (fill_section, (driver,'voluntaryDisclosuresPage','RacistQuestions',1,answers_database,implicit_wait_time)),\n",
    "            (go_to_next, ()),\n",
    "            (fill_section, (driver,'selfIdentificationPage','Disabilities',1,answers_database,implicit_wait_time)),\n",
    "            (go_to_next, ())\n",
    "        ]\n",
    "\n",
    "    #figure out page on and start from that index\n",
    "    page_header = driver.find_elements_by_xpath(f\"//h2[@tabindex='-1']\")\n",
    "    header_names = []\n",
    "    for ele in page_header:\n",
    "        header_names.append(ele.text)\n",
    "    \n",
    "    logger.info(f\"header names are: {header_names}\")\n",
    "    #set index based on page|\n",
    "    if \"My Information\" in header_names:\n",
    "        i = 0\n",
    "    elif \"My Experience\" in header_names:\n",
    "        i = 2\n",
    "    elif \"Application Questions\" in header_names:\n",
    "        i = 11\n",
    "\n",
    "    if debug_index == 0:\n",
    "        pass\n",
    "    else:\n",
    "        i = debug_index\n",
    "\n",
    "    #run functions starting from index i\n",
    "    while i < len(functions) and i > -2:\n",
    "        func, args = functions[i]\n",
    "        try:\n",
    "            func(*args)\n",
    "            i += 1\n",
    "        except Exception as e:\n",
    "            i = i + 1\n",
    "            traceback.print_exc()\n",
    "            logger.warning(f\"Error in function {func.__name__}, args: {args},  error exception: {str(e)}\")\n",
    "            status_message.set(f\"Warning, could not complete function: {func.__name__}, correct errors and then press continue\")\n",
    "            break\n"
   ]
  },
  {
   "cell_type": "code",
   "execution_count": 193,
   "metadata": {},
   "outputs": [
    {
     "name": "stdout",
     "output_type": "stream",
     "text": [
      "Failed to get a label, ID: input-1744\n",
      "Failed to get a label, ID: input-1745\n",
      "Failed to get a label, ID: input-1746\n",
      "Failed to get a label, ID: input-1747\n",
      "Failed to get a label, ID: input-1748\n",
      "Failed to get a label, ID: input-1749\n",
      "Failed to get a label, ID: input-1750\n"
     ]
    },
    {
     "name": "stderr",
     "output_type": "stream",
     "text": [
      "Traceback (most recent call last):\n",
      "  File \"C:\\Users\\JoshG\\AppData\\Local\\Temp\\ipykernel_8512\\273165070.py\", line 58, in fill_all_forms\n",
      "    func(*args)\n",
      "  File \"C:\\Users\\JoshG\\AppData\\Local\\Temp\\ipykernel_8512\\2908628553.py\", line 21, in add_sub_section\n",
      "    add_btn[0].click()\n",
      "IndexError: list index out of range\n"
     ]
    }
   ],
   "source": [
    "fill_all_forms(-1)\n"
   ]
  },
  {
   "cell_type": "code",
   "execution_count": 180,
   "metadata": {},
   "outputs": [
    {
     "name": "stdout",
     "output_type": "stream",
     "text": [
      "Failed to get a label, ID: input-868\n",
      "made it to here\n",
      "2019\n",
      "2022\n",
      "2016\n",
      "2021\n",
      "made it to here\n",
      "Failed to get a label, ID: input-1711\n",
      "Failed to get a label, ID: input-1712\n",
      "Failed to get a label, ID: input-1713\n"
     ]
    },
    {
     "name": "stderr",
     "output_type": "stream",
     "text": [
      "Traceback (most recent call last):\n",
      "  File \"C:\\Users\\JoshG\\AppData\\Local\\Temp\\ipykernel_8512\\1545113336.py\", line 57, in fill_all_forms\n",
      "    func(*args)\n",
      "  File \"C:\\Users\\JoshG\\AppData\\Local\\Temp\\ipykernel_8512\\3336710731.py\", line 28, in fill_section\n",
      "    fill_sub_section(driver,df,form_container)\n",
      "  File \"C:\\Users\\JoshG\\AppData\\Local\\Temp\\ipykernel_8512\\852596012.py\", line 75, in fill_sub_section\n",
      "    entry.write_answer(driver)\n",
      "  File \"c:\\Users\\JoshG\\Documents\\Machine Learning\\JobApp_Automation\\wd_classes.py\", line 168, in write_answer\n",
      "    desired_answer = desired_answer[0] + desired_answer[1] + desired_answer[2]\n",
      "IndexError: list index out of range\n"
     ]
    }
   ],
   "source": [
    "#Create Simple Interface for Script\n",
    "\n",
    "root = tk.Tk()\n",
    "root.title(\"Simple GUI\")\n",
    "\n",
    "#Default Login Info\n",
    "email = tk.StringVar()\n",
    "email.set(\"pyEngineer69@outlook.com\")\n",
    "\n",
    "password = tk.StringVar()\n",
    "password.set(\"aTestPass@1234\")\n",
    "\n",
    "# Create a frame to group the components\n",
    "group_frame = tk.Frame(root)\n",
    "group_frame.pack(padx=10, pady=10)\n",
    "\n",
    "#Input Url Label\n",
    "link_label = tk.Label(group_frame, text='Input Job Application Url')\n",
    "link_label.grid(row=0, column=0, columnspan=3, padx=2,pady=2, sticky='w')\n",
    "\n",
    "url = tk.StringVar()\n",
    "url.set(\"https://jci.wd5.myworkdayjobs.com/JCI/login?redirect=%2FJCI%2Fjob%2FMissoula-Montana-United-States-of-America%2FHVAC-Truck-Base-Mechanic--Union-_WD30167702%2Fapply%3Fsource%3DCareers_Section\")\n",
    "\n",
    "status_message = tk.StringVar()\n",
    "status_message.set(\"\")\n",
    "\n",
    "#Input Url Box\n",
    "link_entry = tk.Entry(group_frame, width=50, textvariable=url)\n",
    "link_entry.grid(row=1, column=0, columnspan=3, padx=2, pady=10, sticky='w')\n",
    "\n",
    "def start_job_app_click():\n",
    "    url = link_entry.get()\n",
    "    email = email_entry.get()\n",
    "    password = password_entry.get()\n",
    "    start_job_app(url, email, password)\n",
    "\n",
    "# Start Application button\n",
    "start_button = tk.Button(group_frame, text=\"Start Application\", command=start_job_app_click)\n",
    "start_button.grid(row=2, column=0, padx=2, pady=2, sticky='w')\n",
    "\n",
    "# Continue button\n",
    "i = 0\n",
    "continue_button = tk.Button(group_frame, text=\"Continue\", command=fill_all_forms)\n",
    "continue_button.grid(row=2, column=1, padx=2, pady=2)\n",
    "\n",
    "# Output label\n",
    "error_label = tk.Label(group_frame, textvariable=status_message)\n",
    "error_label.grid(row=3, column=0, columnspan=3, padx=2, pady=2)\n",
    "\n",
    "#Login Entries\n",
    "email_label = tk.Label(group_frame, text=\"Email\")\n",
    "email_label.grid(row=4, column=0, columnspan=2, padx=2, pady=2, sticky=\"w\")\n",
    "email_entry = tk.Entry(group_frame, textvariable=email, width= 30)\n",
    "email_entry.grid(row=5, column=0,columnspan=2, padx=10, pady=10, sticky=\"w\")\n",
    "\n",
    "password_label = tk.Label(group_frame, text=\"Password\")\n",
    "password_label.grid(row=4, column=2, columnspan=2, padx=2, pady=2, sticky=\"w\")\n",
    "password_entry = tk.Entry(group_frame, textvariable=password, width=30)\n",
    "password_entry.grid(row=5, column=2, columnspan=2, padx=10, pady=10, sticky=\"w\")\n",
    "\n",
    "root.mainloop()"
   ]
  },
  {
   "cell_type": "code",
   "execution_count": null,
   "metadata": {},
   "outputs": [],
   "source": [
    "\"\"\"\n",
    "To do:\n",
    "Figure out way to scroll into view of element so that click element doesn't constantly fail if out of view\n",
    "make all text matching not be case sensitive\n",
    "Add fuzzy matching so that this can work with other job applications where questions are similar but not exact\n",
    "Improve UI and add retry button\n",
    "\"\"\""
   ]
  }
 ],
 "metadata": {
  "kernelspec": {
   "display_name": "machinelearning",
   "language": "python",
   "name": "python3"
  },
  "language_info": {
   "codemirror_mode": {
    "name": "ipython",
    "version": 3
   },
   "file_extension": ".py",
   "mimetype": "text/x-python",
   "name": "python",
   "nbconvert_exporter": "python",
   "pygments_lexer": "ipython3",
   "version": "3.10.8"
  },
  "orig_nbformat": 4,
  "vscode": {
   "interpreter": {
    "hash": "836d562c9a2f2db41caf390e7d6dc0b12da5fac298520fd60cdbf1bb1a94f30b"
   }
  }
 },
 "nbformat": 4,
 "nbformat_minor": 2
}
