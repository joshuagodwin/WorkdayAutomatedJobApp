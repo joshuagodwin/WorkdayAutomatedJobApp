{
 "cells": [
  {
   "attachments": {},
   "cell_type": "markdown",
   "metadata": {},
   "source": [
    "Import Required Packages"
   ]
  },
  {
   "cell_type": "code",
   "execution_count": 1,
   "metadata": {},
   "outputs": [],
   "source": [
    "#|export\n",
    "from selenium import webdriver\n",
    "from selenium.webdriver.chrome.options import Options\n",
    "from selenium.common.exceptions import NoSuchElementException\n",
    "import psutil\n",
    "from selenium.webdriver.common.by import By\n",
    "from selenium.webdriver.support.ui import WebDriverWait\n",
    "from selenium.webdriver.support import expected_conditions as EC\n",
    "import time\n",
    "import pandas as pd\n",
    "from selenium.webdriver.common.keys import Keys\n",
    "from selenium.webdriver.common.action_chains import ActionChains"
   ]
  },
  {
   "attachments": {},
   "cell_type": "markdown",
   "metadata": {},
   "source": [
    "Get current open chrome browser"
   ]
  },
  {
   "cell_type": "code",
   "execution_count": 2,
   "metadata": {},
   "outputs": [
    {
     "name": "stderr",
     "output_type": "stream",
     "text": [
      "C:\\Users\\JoshG\\AppData\\Local\\Temp\\ipykernel_17908\\1268542835.py:9: DeprecationWarning: use options instead of chrome_options\n",
      "  driver = webdriver.Chrome(chrome_driver, chrome_options=chrome_options)\n"
     ]
    }
   ],
   "source": [
    "#|export\n",
    "chrome_options = Options()\n",
    "chrome_options.add_experimental_option(\"debuggerAddress\", \"127.0.0.1:9222\")\n",
    "\n",
    "#Change chrome driver path accordingly\n",
    "#Before doing this launch chrome using cmd prompt command: chrome.exe --remote-debugging-port=9222 --user-data-dir=\"C:\\Users\\JoshG\\Documents\\Machine Learning\\JobApp_Automation\\ChromeProfile\"\n",
    "chrome_driver = \"C:/Users/JoshG/AppData/Local/Microsoft/WindowsApps/chromedriver.exe\"\n",
    "\n",
    "driver = webdriver.Chrome(chrome_driver, chrome_options=chrome_options)"
   ]
  },
  {
   "attachments": {},
   "cell_type": "markdown",
   "metadata": {},
   "source": [
    "Error Handling"
   ]
  },
  {
   "cell_type": "code",
   "execution_count": 3,
   "metadata": {},
   "outputs": [
    {
     "name": "stdout",
     "output_type": "stream",
     "text": [
      "page did not move past login page\n",
      "Account not created\n",
      "answer type is not valid\n"
     ]
    }
   ],
   "source": [
    "#errors\n",
    "\n",
    "class stuck_on_login_page(Exception):\n",
    "    print(f'page did not move past login page')\n",
    "    pass\n",
    "\n",
    "class stuck_on_create_account(Exception):\n",
    "    print(f'Account not created')\n",
    "    pass\n",
    "\n",
    "class invalid_form_entry_type(Exception):\n",
    "    print(f'answer type is not valid')"
   ]
  },
  {
   "attachments": {},
   "cell_type": "markdown",
   "metadata": {},
   "source": [
    "Functions"
   ]
  },
  {
   "cell_type": "code",
   "execution_count": 4,
   "metadata": {},
   "outputs": [],
   "source": [
    "#get login info saved in csv database\n",
    "def wd_get_login_info(company_name,database=\"login_info.csv\"):\n",
    "    #open csv database\n",
    "    df = pd.read_csv(database,dtype={'Password': str})\n",
    "    \n",
    "    #get email and password\n",
    "    email = df.loc[df[\"Company\"] == company_name, 'Email']\n",
    "    email = email.values[0]\n",
    "    password = df.loc[df[\"Company\"] == company_name, 'Password']\n",
    "    password = password.values[0]\n",
    "\n",
    "    return email, password"
   ]
  },
  {
   "cell_type": "code",
   "execution_count": 5,
   "metadata": {},
   "outputs": [
    {
     "name": "stdout",
     "output_type": "stream",
     "text": [
      "email: test@test.com, password 123456\n"
     ]
    }
   ],
   "source": [
    "email, password = wd_get_login_info('Test Company')\n",
    "print(f'email: {email}, password {password}')\n"
   ]
  },
  {
   "cell_type": "code",
   "execution_count": 6,
   "metadata": {},
   "outputs": [],
   "source": [
    "#get login info saved in csv database\n",
    "def write_login_info(company_name,email,password,database=\"login_info.csv\"):\n",
    "    #open csv database\n",
    "    df = pd.read_csv(database)\n",
    "\n",
    "    # add a new row to the DataFrame with the new person's name and company name\n",
    "    new_row = pd.DataFrame({'Company': [f'{company_name}'], 'Email': [f'{email}'], 'Password': [f'{password}']})\n",
    "\n",
    "    # concatenate the new DataFrame with the existing DataFrame\n",
    "    df = pd.concat([df, new_row], ignore_index=False)\n",
    "\n",
    "    # write the updated DataFrame to the existing CSV file\n",
    "    df.to_csv('login_info.csv', index=False)"
   ]
  },
  {
   "cell_type": "code",
   "execution_count": 7,
   "metadata": {},
   "outputs": [],
   "source": [
    "#check if this url has a workday account in database\n",
    "def wd_check_account_exists(company_name, login_info=\"login_info.csv\"):\n",
    "    df = pd.read_csv(login_info,dtype={'Password': str})\n",
    "    if company_name in df[\"Company\"].values:\n",
    "        return True\n",
    "    else:\n",
    "        return False"
   ]
  },
  {
   "cell_type": "code",
   "execution_count": 8,
   "metadata": {},
   "outputs": [],
   "source": [
    "def check_page_type(page_type):\n",
    "    #check to see if on page = \"page_type\"\n",
    "    try:\n",
    "        page_title_obj = driver.find_element_by_xpath(f'//h2[text()=\"{page_type}\"]')\n",
    "    except:\n",
    "        return False\n",
    "    #page_title_obj = driver.find_element_by_id(\"authViewTitle\")\n",
    "    page_title = page_title_obj.text\n",
    "    print(page_title)\n",
    "    if page_title == page_type:\n",
    "        return True\n",
    "    else:\n",
    "        return False"
   ]
  },
  {
   "cell_type": "code",
   "execution_count": 9,
   "metadata": {},
   "outputs": [],
   "source": [
    "#create new wd account\n",
    "def wd_create_account(company_name, username, password):\n",
    "    #get form items\n",
    "    email_text_box = driver.find_element(By.XPATH, \"//*[contains(text(), 'Email Address')]/following::input[@type='text'][1]\")\n",
    "    password_text_box = driver.find_element_by_css_selector(\"input[data-automation-id='password']\")\n",
    "    verify_password_text_box = driver.find_element_by_css_selector(\"input[data-automation-id='verifyPassword']\")\n",
    "    terms_checkbox = driver.find_element_by_css_selector(\"input[data-automation-id='createAccountCheckbox']\")\n",
    "\n",
    "    #fill in form\n",
    "    email_text_box.clear()\n",
    "    email_text_box.send_keys(email)\n",
    "\n",
    "    #for some reason clear doesn't work with this field, so alternative is highlighting the text to clear\n",
    "    password_text_box.send_keys(Keys.CONTROL,\"a\", Keys.DELETE)\n",
    "    password_text_box.send_keys(password)\n",
    "    password_text_box.send_keys(Keys.TAB)\n",
    "\n",
    "    #See if password was accepted\n",
    "    try:\n",
    "        driver.find_element_by_css_selector(\"p[data-automation-id='inputError']\")\n",
    "        error_msg = driver.find_element_by_css_selector(\"p[data-automation-id='inputError']\")\n",
    "        if error_msg.is_displayed():\n",
    "            print(\"Passsword has error\")\n",
    "        else:\n",
    "            print(\"password valid, but inputerror label exists\")\n",
    "\n",
    "    except NoSuchElementException:\n",
    "        print(\"Password is valid\")\n",
    "\n",
    "    verify_password_text_box.clear()\n",
    "    verify_password_text_box.send_keys(password)\n",
    "\n",
    "    #check terms and conditions checkbox\n",
    "    if terms_checkbox.get_attribute(\"checked\") == \"true\":\n",
    "        print('was already checked')\n",
    "    else:\n",
    "        terms_checkbox.click()\n",
    "\n",
    "    #Get create account button\n",
    "    create_account_button = driver.find_element_by_xpath(\"//div[@aria-label='Create Account']\")\n",
    "    driver.implicitly_wait(1)\n",
    "    driver.execute_script(\"arguments[0].click();\", create_account_button)\n",
    "\n",
    "    #Add to database if account created successfully\n",
    "    if check_page_type('Create Account'):\n",
    "        raise stuck_on_create_account(\"Did not move on to next page from create account\")\n",
    "    else:\n",
    "        write_login_info(company_name, username, password)"
   ]
  },
  {
   "cell_type": "code",
   "execution_count": 10,
   "metadata": {},
   "outputs": [],
   "source": [
    "def wd_sign_in(email, password):\n",
    "    # Get email and password elements\n",
    "    email_text_box = driver.find_element(By.XPATH, \"//*[contains(text(), 'Email Address')]/following::input[@type='text'][1]\")\n",
    "    password_text_box = driver.find_element(By.XPATH, \"//*[contains(text(), 'password')]/following::input[@type='password'][1]\")\n",
    "    \n",
    "    \n",
    "    #Fill in email and password\n",
    "    email_text_box.send_keys(email)\n",
    "    password_text_box.send_keys(password)\n",
    "\n",
    "    #wait for a moment\n",
    "    driver.implicitly_wait(2)\n",
    "    \n",
    "    #Get sign in button and click\n",
    "    sign_in_button = driver.find_element_by_xpath(\"//div[@aria-label='Sign In']\")\n",
    "    driver.implicitly_wait(1)\n",
    "    driver.execute_script(\"arguments[0].click();\", sign_in_button)\n",
    "\n",
    "    driver.implicitly_wait(1)\n",
    "\n",
    "    \n",
    "    #check to see if still on same page\n",
    "    if check_page_type('login'):\n",
    "        raise stuck_on_login_page(\"Login Info Didn't Work\")\n",
    "    else:\n",
    "        print(\"no errors found on login page\")\n",
    "        \n"
   ]
  },
  {
   "cell_type": "code",
   "execution_count": 11,
   "metadata": {},
   "outputs": [],
   "source": [
    "def get_current_company():\n",
    "    #get url and pull the text after the first / after myworkdayjobs.com\n",
    "    current_url = driver.current_url\n",
    "\n",
    "    # Split the URL by \"/\"\n",
    "    parts = current_url.split(\"/\")\n",
    "\n",
    "    # Get the text following \".com/\" and before the next slash\n",
    "    company_name = parts[3]\n",
    "\n",
    "    return company_name"
   ]
  },
  {
   "cell_type": "code",
   "execution_count": 12,
   "metadata": {},
   "outputs": [],
   "source": [
    "def wd_login_page(new_email,new_password):\n",
    "    \n",
    "    wait = WebDriverWait(driver, 20)\n",
    "    wait.until(EC.presence_of_element_located((By.ID, \"input-4\")))\n",
    "    \n",
    "    current_company = get_current_company()\n",
    "\n",
    "    #check if account exists for this site and login if has account or create account and then login\n",
    "    if wd_check_account_exists(current_company) is True:\n",
    "        email, password = wd_get_login_info(current_company)\n",
    "        wd_sign_in(email, password)\n",
    "    else:\n",
    "        create_account_button = driver.find_element_by_xpath(\"//button[contains(text(), 'Create Account')]\")\n",
    "        create_account_button.click()\n",
    "        \n",
    "        wd_create_account(current_company, new_email, new_password)"
   ]
  },
  {
   "cell_type": "code",
   "execution_count": 13,
   "metadata": {},
   "outputs": [],
   "source": [
    "def wd_startYourApplication_page():\n",
    "    \n",
    "    wait = WebDriverWait(driver, 20)\n",
    "    wait.until(EC.presence_of_element_located((By.CSS_SELECTOR, \"[data-automation-id='applyManually']\")))\n",
    "\n",
    "    manual_apply_btn = driver.find_element_by_css_selector(\"a[data-automation-id='applyManually']\")\n",
    "    manual_apply_btn.click()\n",
    "\n",
    "def get_question_list():\n",
    "    pass\n",
    "\n",
    "def wd_myInformation_page():\n",
    "    get_question_list()\n",
    "    \n"
   ]
  },
  {
   "cell_type": "code",
   "execution_count": 14,
   "metadata": {},
   "outputs": [],
   "source": [
    "def answer_question(element,question_label,answer,answer_type='textbox'):\n",
    "    if answer_type == 'textbox':\n",
    "        element.send_keys(answer)\n",
    "    elif answer_type == 'button':\n",
    "        print(\"funcitonality not implemnted yet\")"
   ]
  },
  {
   "cell_type": "code",
   "execution_count": 17,
   "metadata": {},
   "outputs": [
    {
     "name": "stdout",
     "output_type": "stream",
     "text": [
      "no errors found on login page\n"
     ]
    },
    {
     "ename": "TimeoutException",
     "evalue": "Message: \n",
     "output_type": "error",
     "traceback": [
      "\u001b[1;31m---------------------------------------------------------------------------\u001b[0m",
      "\u001b[1;31mTimeoutException\u001b[0m                          Traceback (most recent call last)",
      "Cell \u001b[1;32mIn [17], line 9\u001b[0m\n\u001b[0;32m      6\u001b[0m driver\u001b[39m.\u001b[39mget(url)\n\u001b[0;32m      7\u001b[0m wd_login_page(email, password)\n\u001b[1;32m----> 9\u001b[0m wd_startYourApplication_page()\n",
      "Cell \u001b[1;32mIn [13], line 4\u001b[0m, in \u001b[0;36mwd_startYourApplication_page\u001b[1;34m()\u001b[0m\n\u001b[0;32m      1\u001b[0m \u001b[39mdef\u001b[39;00m \u001b[39mwd_startYourApplication_page\u001b[39m():\n\u001b[0;32m      3\u001b[0m     wait \u001b[39m=\u001b[39m WebDriverWait(driver, \u001b[39m20\u001b[39m)\n\u001b[1;32m----> 4\u001b[0m     wait\u001b[39m.\u001b[39;49muntil(EC\u001b[39m.\u001b[39;49mpresence_of_element_located((By\u001b[39m.\u001b[39;49mCSS_SELECTOR, \u001b[39m\"\u001b[39;49m\u001b[39m[data-automation-id=\u001b[39;49m\u001b[39m'\u001b[39;49m\u001b[39mapplyManually\u001b[39;49m\u001b[39m'\u001b[39;49m\u001b[39m]\u001b[39;49m\u001b[39m\"\u001b[39;49m)))\n\u001b[0;32m      6\u001b[0m     manual_apply_btn \u001b[39m=\u001b[39m driver\u001b[39m.\u001b[39mfind_element_by_css_selector(\u001b[39m\"\u001b[39m\u001b[39ma[data-automation-id=\u001b[39m\u001b[39m'\u001b[39m\u001b[39mapplyManually\u001b[39m\u001b[39m'\u001b[39m\u001b[39m]\u001b[39m\u001b[39m\"\u001b[39m)\n\u001b[0;32m      7\u001b[0m     manual_apply_btn\u001b[39m.\u001b[39mclick()\n",
      "File \u001b[1;32mc:\\Users\\JoshG\\anaconda3\\envs\\machinelearning\\lib\\site-packages\\selenium\\webdriver\\support\\wait.py:80\u001b[0m, in \u001b[0;36mWebDriverWait.until\u001b[1;34m(self, method, message)\u001b[0m\n\u001b[0;32m     78\u001b[0m     \u001b[39mif\u001b[39;00m time\u001b[39m.\u001b[39mtime() \u001b[39m>\u001b[39m end_time:\n\u001b[0;32m     79\u001b[0m         \u001b[39mbreak\u001b[39;00m\n\u001b[1;32m---> 80\u001b[0m \u001b[39mraise\u001b[39;00m TimeoutException(message, screen, stacktrace)\n",
      "\u001b[1;31mTimeoutException\u001b[0m: Message: \n"
     ]
    }
   ],
   "source": [
    "#|export\n",
    "url = 'https://jci.wd5.myworkdayjobs.com/JCI/login?redirect=%2FJCI%2Fjob%2FMissoula-Montana-United-States-of-America%2FHVAC-Truck-Base-Mechanic--Union-_WD30167702%2Fapply%3Fsource%3DCareers_Section'\n",
    "email = \"pyEngineer69@outlook.com\"\n",
    "password = \"aTestPass@1234\"\n",
    "\n",
    "driver.get(url)\n",
    "wd_login_page(email, password)\n",
    "\n",
    "wd_startYourApplication_page()"
   ]
  },
  {
   "cell_type": "code",
   "execution_count": 20,
   "metadata": {},
   "outputs": [],
   "source": [
    "def get_answer(df,question):\n",
    "    #pull answer from form\n",
    "    if (df['Questions'].str.contains(str(question))).any():\n",
    "        \n",
    "        #get index where answer was found\n",
    "        index = df[df['Questions'].str.contains(str(question))].index\n",
    "        index = index[0]\n",
    "        \n",
    "        answer = df.loc[index, 'Answers']\n",
    "\n",
    "        if pd.isna(answer):\n",
    "            answer = \"\"\n",
    "\n",
    "        return answer\n",
    "\n",
    "    else:\n",
    "        print(f'Answer not found for: {question}')\n",
    "        return \"\""
   ]
  },
  {
   "cell_type": "code",
   "execution_count": 16,
   "metadata": {},
   "outputs": [],
   "source": [
    "def load_page_by_dataautomationid(dataautomationid,t=20):\n",
    "    wait = WebDriverWait(driver, 20)\n",
    "    wait.until(EC.presence_of_element_located((By.CSS_SELECTOR, f\"[data-automation-id='{dataautomationid}']\")))\n",
    "    driver.implicitly_wait(0.5)"
   ]
  },
  {
   "cell_type": "code",
   "execution_count": 20,
   "metadata": {},
   "outputs": [
    {
     "ename": "TimeoutException",
     "evalue": "Message: \n",
     "output_type": "error",
     "traceback": [
      "\u001b[1;31m---------------------------------------------------------------------------\u001b[0m",
      "\u001b[1;31mTimeoutException\u001b[0m                          Traceback (most recent call last)",
      "Cell \u001b[1;32mIn [20], line 5\u001b[0m\n\u001b[0;32m      1\u001b[0m \u001b[39m#|export\u001b[39;00m\n\u001b[0;32m      2\u001b[0m \u001b[39m#\u001b[39;00m\n\u001b[0;32m      3\u001b[0m \u001b[39m# #1st page of entry forms\u001b[39;00m\n\u001b[1;32m----> 5\u001b[0m load_page_by_dataautomationid(\u001b[39m'\u001b[39;49m\u001b[39mcontactInformationPage\u001b[39;49m\u001b[39m'\u001b[39;49m)\n\u001b[0;32m      7\u001b[0m \u001b[39m#get question/answer database\u001b[39;00m\n\u001b[0;32m      8\u001b[0m df \u001b[39m=\u001b[39m pd\u001b[39m.\u001b[39mread_excel(\u001b[39m'\u001b[39m\u001b[39mAnswers.xlsx\u001b[39m\u001b[39m'\u001b[39m,sheet_name\u001b[39m=\u001b[39m\u001b[39m\"\u001b[39m\u001b[39mAnswers\u001b[39m\u001b[39m\"\u001b[39m,dtype\u001b[39m=\u001b[39m{\u001b[39m'\u001b[39m\u001b[39mQuestions\u001b[39m\u001b[39m'\u001b[39m: \u001b[39mstr\u001b[39m, \u001b[39m'\u001b[39m\u001b[39mAnswers\u001b[39m\u001b[39m'\u001b[39m: \u001b[39mstr\u001b[39m})\n",
      "Cell \u001b[1;32mIn [19], line 3\u001b[0m, in \u001b[0;36mload_page_by_dataautomationid\u001b[1;34m(dataautomationid, t)\u001b[0m\n\u001b[0;32m      1\u001b[0m \u001b[39mdef\u001b[39;00m \u001b[39mload_page_by_dataautomationid\u001b[39m(dataautomationid,t\u001b[39m=\u001b[39m\u001b[39m20\u001b[39m):\n\u001b[0;32m      2\u001b[0m     wait \u001b[39m=\u001b[39m WebDriverWait(driver, \u001b[39m20\u001b[39m)\n\u001b[1;32m----> 3\u001b[0m     wait\u001b[39m.\u001b[39;49muntil(EC\u001b[39m.\u001b[39;49mpresence_of_element_located((By\u001b[39m.\u001b[39;49mCSS_SELECTOR, \u001b[39mf\u001b[39;49m\u001b[39m\"\u001b[39;49m\u001b[39m[data-automation-id=\u001b[39;49m\u001b[39m'\u001b[39;49m\u001b[39m{\u001b[39;49;00mdataautomationid\u001b[39m}\u001b[39;49;00m\u001b[39m'\u001b[39;49m\u001b[39m]\u001b[39;49m\u001b[39m\"\u001b[39;49m)))\n\u001b[0;32m      4\u001b[0m     driver\u001b[39m.\u001b[39mimplicitly_wait(\u001b[39m0.5\u001b[39m)\n",
      "File \u001b[1;32mc:\\Users\\JoshG\\anaconda3\\envs\\machinelearning\\lib\\site-packages\\selenium\\webdriver\\support\\wait.py:80\u001b[0m, in \u001b[0;36mWebDriverWait.until\u001b[1;34m(self, method, message)\u001b[0m\n\u001b[0;32m     78\u001b[0m     \u001b[39mif\u001b[39;00m time\u001b[39m.\u001b[39mtime() \u001b[39m>\u001b[39m end_time:\n\u001b[0;32m     79\u001b[0m         \u001b[39mbreak\u001b[39;00m\n\u001b[1;32m---> 80\u001b[0m \u001b[39mraise\u001b[39;00m TimeoutException(message, screen, stacktrace)\n",
      "\u001b[1;31mTimeoutException\u001b[0m: Message: \n"
     ]
    }
   ],
   "source": [
    "#|export\n",
    "#\n",
    "# #1st page of entry forms\n",
    "\n",
    "load_page_by_dataautomationid('contactInformationPage')\n",
    "\n",
    "#get question/answer database\n",
    "df = pd.read_excel('Answers.xlsx',sheet_name=\"Answers\",dtype={'Questions': str, 'Answers': str})\n",
    "#display(df.head(5))\n",
    "\n",
    "# locate all input elements on the page\n",
    "inputs_list = driver.find_elements_by_css_selector(\"[id^='input-']\")\n",
    "print(f'length of # entrys: {len(inputs_list)}')\n",
    "\n",
    "entries = []\n",
    "#move through each form entry and fill in\n",
    "for element in inputs_list:\n",
    "    \n",
    "    #create element object\n",
    "    entry = FormEntry(element)\n",
    "    print(entry)\n",
    "    \n",
    "    entry.get_id()\n",
    "    entry.get_label()\n",
    "    entry.get_tag()\n",
    "\n",
    "    #skip if a span element\n",
    "    if entry.tag == 'span':\n",
    "        continue\n",
    "\n",
    "    #pull answer from form\n",
    "    answer = get_answer(df,entry.label)\n",
    "    entry.add_answer(answer)\n",
    "\n",
    "    print(f\"form element prior to writing answer: {entry}\")\n",
    "\n",
    "    entry.write_answer()\n",
    "        \n",
    "    #append entry to entries list\n",
    "    entries.append(entry)\n",
    "    driver.implicitly_wait(0.2)\n",
    "\n",
    "continue_button = driver.find_element_by_xpath(f\"//button[@data-automation-id='bottom-navigation-next-button']\")\n",
    "#continue_button.click()\n"
   ]
  },
  {
   "cell_type": "code",
   "execution_count": 17,
   "metadata": {},
   "outputs": [
    {
     "data": {
      "text/html": [
       "<div>\n",
       "<style scoped>\n",
       "    .dataframe tbody tr th:only-of-type {\n",
       "        vertical-align: middle;\n",
       "    }\n",
       "\n",
       "    .dataframe tbody tr th {\n",
       "        vertical-align: top;\n",
       "    }\n",
       "\n",
       "    .dataframe thead th {\n",
       "        text-align: right;\n",
       "    }\n",
       "</style>\n",
       "<table border=\"1\" class=\"dataframe\">\n",
       "  <thead>\n",
       "    <tr style=\"text-align: right;\">\n",
       "      <th></th>\n",
       "      <th>Questions</th>\n",
       "      <th>Answers</th>\n",
       "    </tr>\n",
       "  </thead>\n",
       "  <tbody>\n",
       "    <tr>\n",
       "      <th>0</th>\n",
       "      <td>Job Title</td>\n",
       "      <td>Investigator</td>\n",
       "    </tr>\n",
       "    <tr>\n",
       "      <th>1</th>\n",
       "      <td>Company</td>\n",
       "      <td>Investigations Inc</td>\n",
       "    </tr>\n",
       "    <tr>\n",
       "      <th>2</th>\n",
       "      <td>Location</td>\n",
       "      <td>1234 auto st</td>\n",
       "    </tr>\n",
       "    <tr>\n",
       "      <th>3</th>\n",
       "      <td>I currently work here</td>\n",
       "      <td>yes</td>\n",
       "    </tr>\n",
       "    <tr>\n",
       "      <th>4</th>\n",
       "      <td>From</td>\n",
       "      <td>1/3/2023</td>\n",
       "    </tr>\n",
       "    <tr>\n",
       "      <th>5</th>\n",
       "      <td>To</td>\n",
       "      <td>NaN</td>\n",
       "    </tr>\n",
       "  </tbody>\n",
       "</table>\n",
       "</div>"
      ],
      "text/plain": [
       "               Questions             Answers\n",
       "0              Job Title        Investigator\n",
       "1                Company  Investigations Inc\n",
       "2               Location        1234 auto st\n",
       "3  I currently work here                 yes\n",
       "4                   From            1/3/2023\n",
       "5                     To                 NaN"
      ]
     },
     "execution_count": 17,
     "metadata": {},
     "output_type": "execute_result"
    }
   ],
   "source": [
    "#get question/answer database\n",
    "df_work = pd.read_excel('Answers.xlsx',sheet_name=\"WorkExp1\")\n",
    "df_work.head(6)"
   ]
  },
  {
   "cell_type": "code",
   "execution_count": 18,
   "metadata": {},
   "outputs": [
    {
     "name": "stdout",
     "output_type": "stream",
     "text": [
      "There are 2 sheets that start with the title 'workExperience'.\n"
     ]
    },
    {
     "name": "stderr",
     "output_type": "stream",
     "text": [
      "C:\\Users\\JoshG\\AppData\\Local\\Temp\\ipykernel_17908\\2019252505.py:4: DeprecationWarning: Call to deprecated function get_sheet_names (Use wb.sheetnames).\n",
      "  sheet_names = wb.get_sheet_names()\n"
     ]
    }
   ],
   "source": [
    "from openpyxl import load_workbook\n",
    "\n",
    "wb = load_workbook(\"Answers.xlsx\")\n",
    "sheet_names = wb.get_sheet_names()\n",
    "\n",
    "work_experience_sheets = [name for name in sheet_names if name.startswith(\"WorkExp\")]\n",
    "num_work_experience_sheets = len(work_experience_sheets)\n",
    "\n",
    "print(f\"There are {num_work_experience_sheets} sheets that start with the title 'workExperience'.\")\n"
   ]
  },
  {
   "cell_type": "code",
   "execution_count": null,
   "metadata": {},
   "outputs": [],
   "source": [
    "#|export\n",
    "#\n",
    "#2nd page of entry forms\n",
    "\n",
    "#wait till page has loaded\n",
    "load_page_by_dataautomationid('myExperiencePage')\n",
    "\n",
    "#delete any work experience\n",
    "delete_exp_btn = driver.find_elements_by_xpath(f\"//button[@aria-label='Delete Work Experience 1']\")\n",
    "if len(delete_exp_btn) > 0:\n",
    "    delete_exp_btn[0].click()\n",
    "\n",
    "#click work experience button\n",
    "add_exp_btn = driver.find_elements_by_xpath(f\"//button[@aria-label='Add Work Experience']\")\n",
    "add_exp_btn[0].click()\n",
    "\n",
    "#fill in each form for each job\n",
    "for i in range(num_work_experience_sheets):\n",
    "    "
   ]
  },
  {
   "cell_type": "code",
   "execution_count": 41,
   "metadata": {},
   "outputs": [
    {
     "name": "stdout",
     "output_type": "stream",
     "text": [
      "7\n",
      "ID: input-408, tag: input, entry label: Job Title, answer: Investigator, answer type: None\n",
      "ID: input-409, tag: input, entry label: Company, answer: Investigations Inc, answer type: None\n",
      "ID: input-410, tag: input, entry label: Location, answer: 1234 auto st, answer type: None\n",
      "ID: input-411, tag: input, entry label: I currently work here, answer: yes, answer type: CHECKBOX\n",
      "ID: input-414, tag: div, entry label: From, answer: 1/3/2023, answer type: DATE\n",
      "32023\n",
      "ID: input-418, tag: textarea, entry label: Role Description, answer: Work super hard, trust me bro, answer type: TEXTAREA\n"
     ]
    }
   ],
   "source": [
    "import importlib\n",
    "from wd_classes import FormEntry\n",
    "importlib.reload(wd_classes)\n",
    "from wd_classes import FormEntry\n",
    "\n",
    "#2nd page of entry forms\n",
    "load_page_by_dataautomationid('myExperiencePage')\n",
    "\n",
    "#delete any work experience\n",
    "delete_exp_btn = driver.find_elements_by_xpath(f\"//button[@aria-label='Delete Work Experience 1']\")\n",
    "if len(delete_exp_btn) > 0:\n",
    "    delete_exp_btn[0].click()\n",
    "\n",
    "#click work experience button\n",
    "add_exp_btn = driver.find_elements_by_xpath(f\"//button[@aria-label='Add Work Experience']\")\n",
    "add_exp_btn[0].click()\n",
    "\n",
    "\n",
    "def add_work_exp(driver,df):\n",
    "    #get the container for work experience 1\n",
    "    exp_container = driver.find_element_by_xpath(f\"//div[@data-automation-id='workExperienceSection']\")\n",
    "\n",
    "    # locate all input elements in work experience 1\n",
    "    inputs_list = exp_container.find_elements_by_css_selector(\"[id^='input-']\")\n",
    "\n",
    "    #remove any elements that don't have their id ending in a number\n",
    "    new_inputs_list = []\n",
    "    for i in range(len(inputs_list)):\n",
    "        current_id = inputs_list[i].get_attribute('ID')\n",
    "        if current_id[-1].isdigit() != False:\n",
    "            new_inputs_list.append(inputs_list[i])\n",
    "    inputs_list = new_inputs_list\n",
    "\n",
    "    print(len(inputs_list))\n",
    "\n",
    "    #move through each form entry and fill in\n",
    "    entries = []\n",
    "    for element in inputs_list:\n",
    "        #make sure element still exists\n",
    "        try:\n",
    "            if len(driver.find_elements_by_xpath(f\"//*[@id='{element.get_attribute('ID')}']\")) > 0:\n",
    "                pass\n",
    "        except:\n",
    "            continue\n",
    "        \n",
    "        #create element object\n",
    "        entry = FormEntry(element)\n",
    "        \n",
    "        #get the type of answer form it is\n",
    "        entry.get_id()\n",
    "        entry.get_tag()\n",
    "        entry.get_answer_type()\n",
    "        entry.get_label()\n",
    "\n",
    "        #skip if a span element\n",
    "        if entry.tag == 'span':\n",
    "            continue\n",
    "\n",
    "        #pull answer from form\n",
    "        answer = get_answer(df,entry.label)\n",
    "        entry.add_answer(answer)\n",
    "\n",
    "        print(entry)\n",
    "\n",
    "        #fill in answer\n",
    "        entry.update_element(driver)\n",
    "        entry.write_answer(driver)\n",
    "            \n",
    "        #append entry to entries list\n",
    "        entries.append(entry)\n",
    "        driver.implicitly_wait(0.2)\n",
    "\n",
    "add_work_exp(driver,df_work)\n"
   ]
  },
  {
   "cell_type": "code",
   "execution_count": null,
   "metadata": {},
   "outputs": [],
   "source": []
  }
 ],
 "metadata": {
  "kernelspec": {
   "display_name": "machinelearning",
   "language": "python",
   "name": "python3"
  },
  "language_info": {
   "codemirror_mode": {
    "name": "ipython",
    "version": 3
   },
   "file_extension": ".py",
   "mimetype": "text/x-python",
   "name": "python",
   "nbconvert_exporter": "python",
   "pygments_lexer": "ipython3",
   "version": "3.10.8"
  },
  "orig_nbformat": 4,
  "vscode": {
   "interpreter": {
    "hash": "836d562c9a2f2db41caf390e7d6dc0b12da5fac298520fd60cdbf1bb1a94f30b"
   }
  }
 },
 "nbformat": 4,
 "nbformat_minor": 2
}
