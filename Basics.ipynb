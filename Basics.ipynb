{
 "cells": [
  {
   "cell_type": "code",
   "execution_count": 2,
   "metadata": {},
   "outputs": [],
   "source": [
    "from selenium import webdriver\n",
    "from selenium.webdriver.common.by import By\n",
    "\n",
    "# Create a new Chrome browser\n",
    "driver = webdriver.Chrome()\n",
    "\n",
    "# Navigate to LinkedIn\n",
    "driver.get('https://www.google.com/')\n",
    "\n",
    "# Wait for the page to load\n",
    "driver.implicitly_wait(10)\n",
    "\n",
    "# Find the search box element\n",
    "search_box = driver.find_element(By.NAME, 'q')\n",
    "\n",
    "# Enter the search query\n",
    "search_box.send_keys('job Dallas Texas')"
   ]
  },
  {
   "cell_type": "code",
   "execution_count": null,
   "metadata": {},
   "outputs": [],
   "source": []
  }
 ],
 "metadata": {
  "kernelspec": {
   "display_name": "machinelearning",
   "language": "python",
   "name": "python3"
  },
  "language_info": {
   "codemirror_mode": {
    "name": "ipython",
    "version": 3
   },
   "file_extension": ".py",
   "mimetype": "text/x-python",
   "name": "python",
   "nbconvert_exporter": "python",
   "pygments_lexer": "ipython3",
   "version": "3.10.8"
  },
  "orig_nbformat": 4,
  "vscode": {
   "interpreter": {
    "hash": "836d562c9a2f2db41caf390e7d6dc0b12da5fac298520fd60cdbf1bb1a94f30b"
   }
  }
 },
 "nbformat": 4,
 "nbformat_minor": 2
}
